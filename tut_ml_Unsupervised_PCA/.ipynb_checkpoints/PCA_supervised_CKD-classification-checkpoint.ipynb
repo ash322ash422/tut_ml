{
 "cells": [
  {
   "cell_type": "markdown",
   "id": "0a1b0355-429d-4b53-b676-c23a7b2a5e06",
   "metadata": {},
   "source": [
    "## PCA in Supervised Learning: \n",
    "#### Generally PCA is used in unsupervised learning, but it can be used in supervised learning. This notebook shows how to use PCA in supervised learning\n",
    "\n",
    "Problem: You are asked to find for a given patient data, whether he has a high chance of getting Chronic Kidney Disease(CKD) or not. You are not a nephrologist., AKA kidney specialist. You only have data ,CSV file, that shows previous records of patients who had CKD or not. You do not fully understand the medical terminology and have not heard the names of the columns before. Although, you are an expert in statistics. You have access to python statistical libraries. Find out if the patient has CKD or not.\n"
   ]
  },
  {
   "cell_type": "code",
   "execution_count": 75,
   "id": "13b3d9d4",
   "metadata": {
    "id": "8iTvNy31wklj",
    "papermill": {
     "duration": 0.993338,
     "end_time": "2022-03-04T05:24:09.299331",
     "exception": false,
     "start_time": "2022-03-04T05:24:08.305993",
     "status": "completed"
    },
    "tags": []
   },
   "outputs": [],
   "source": [
    "# Importing necessary libraries\n",
    "\n",
    "import numpy as np\n",
    "import pandas as pd # install panda\n",
    "import seaborn as sns # install seaborn\n",
    "import matplotlib.pyplot as plt # install matplotlib\n",
    "%matplotlib inline \n",
    "\n",
    "# import warnings\n",
    "# warnings.filterwarnings('ignore')"
   ]
  },
  {
   "cell_type": "code",
   "execution_count": 76,
   "id": "006b7b43",
   "metadata": {
    "id": "rywhW6t6wrpe",
    "outputId": "1c4c047b-a80d-4f20-fa7f-2df83c68b410",
    "papermill": {
     "duration": 0.097237,
     "end_time": "2022-03-04T05:24:09.419021",
     "exception": false,
     "start_time": "2022-03-04T05:24:09.321784",
     "status": "completed"
    },
    "tags": []
   },
   "outputs": [
    {
     "data": {
      "text/html": [
       "<div>\n",
       "<style scoped>\n",
       "    .dataframe tbody tr th:only-of-type {\n",
       "        vertical-align: middle;\n",
       "    }\n",
       "\n",
       "    .dataframe tbody tr th {\n",
       "        vertical-align: top;\n",
       "    }\n",
       "\n",
       "    .dataframe thead th {\n",
       "        text-align: right;\n",
       "    }\n",
       "</style>\n",
       "<table border=\"1\" class=\"dataframe\">\n",
       "  <thead>\n",
       "    <tr style=\"text-align: right;\">\n",
       "      <th></th>\n",
       "      <th>id</th>\n",
       "      <th>age</th>\n",
       "      <th>bp</th>\n",
       "      <th>sg</th>\n",
       "      <th>al</th>\n",
       "      <th>su</th>\n",
       "      <th>rbc</th>\n",
       "      <th>pc</th>\n",
       "      <th>pcc</th>\n",
       "      <th>ba</th>\n",
       "      <th>bgr</th>\n",
       "      <th>bu</th>\n",
       "      <th>sc</th>\n",
       "      <th>sod</th>\n",
       "      <th>pot</th>\n",
       "      <th>hemo</th>\n",
       "      <th>pcv</th>\n",
       "      <th>wc</th>\n",
       "      <th>rc</th>\n",
       "      <th>htn</th>\n",
       "      <th>dm</th>\n",
       "      <th>cad</th>\n",
       "      <th>appet</th>\n",
       "      <th>pe</th>\n",
       "      <th>ane</th>\n",
       "      <th>classification</th>\n",
       "    </tr>\n",
       "  </thead>\n",
       "  <tbody>\n",
       "    <tr>\n",
       "      <th>0</th>\n",
       "      <td>0</td>\n",
       "      <td>48.0</td>\n",
       "      <td>80.0</td>\n",
       "      <td>1.020</td>\n",
       "      <td>1.0</td>\n",
       "      <td>0.0</td>\n",
       "      <td>NaN</td>\n",
       "      <td>normal</td>\n",
       "      <td>notpresent</td>\n",
       "      <td>notpresent</td>\n",
       "      <td>121.0</td>\n",
       "      <td>36.0</td>\n",
       "      <td>1.2</td>\n",
       "      <td>NaN</td>\n",
       "      <td>NaN</td>\n",
       "      <td>15.4</td>\n",
       "      <td>44</td>\n",
       "      <td>7800</td>\n",
       "      <td>5.2</td>\n",
       "      <td>yes</td>\n",
       "      <td>yes</td>\n",
       "      <td>no</td>\n",
       "      <td>good</td>\n",
       "      <td>no</td>\n",
       "      <td>no</td>\n",
       "      <td>ckd</td>\n",
       "    </tr>\n",
       "    <tr>\n",
       "      <th>1</th>\n",
       "      <td>1</td>\n",
       "      <td>7.0</td>\n",
       "      <td>50.0</td>\n",
       "      <td>1.020</td>\n",
       "      <td>4.0</td>\n",
       "      <td>0.0</td>\n",
       "      <td>NaN</td>\n",
       "      <td>normal</td>\n",
       "      <td>notpresent</td>\n",
       "      <td>notpresent</td>\n",
       "      <td>NaN</td>\n",
       "      <td>18.0</td>\n",
       "      <td>0.8</td>\n",
       "      <td>NaN</td>\n",
       "      <td>NaN</td>\n",
       "      <td>11.3</td>\n",
       "      <td>38</td>\n",
       "      <td>6000</td>\n",
       "      <td>NaN</td>\n",
       "      <td>no</td>\n",
       "      <td>no</td>\n",
       "      <td>no</td>\n",
       "      <td>good</td>\n",
       "      <td>no</td>\n",
       "      <td>no</td>\n",
       "      <td>ckd</td>\n",
       "    </tr>\n",
       "    <tr>\n",
       "      <th>2</th>\n",
       "      <td>2</td>\n",
       "      <td>62.0</td>\n",
       "      <td>80.0</td>\n",
       "      <td>1.010</td>\n",
       "      <td>2.0</td>\n",
       "      <td>3.0</td>\n",
       "      <td>normal</td>\n",
       "      <td>normal</td>\n",
       "      <td>notpresent</td>\n",
       "      <td>notpresent</td>\n",
       "      <td>423.0</td>\n",
       "      <td>53.0</td>\n",
       "      <td>1.8</td>\n",
       "      <td>NaN</td>\n",
       "      <td>NaN</td>\n",
       "      <td>9.6</td>\n",
       "      <td>31</td>\n",
       "      <td>7500</td>\n",
       "      <td>NaN</td>\n",
       "      <td>no</td>\n",
       "      <td>yes</td>\n",
       "      <td>no</td>\n",
       "      <td>poor</td>\n",
       "      <td>no</td>\n",
       "      <td>yes</td>\n",
       "      <td>ckd</td>\n",
       "    </tr>\n",
       "    <tr>\n",
       "      <th>3</th>\n",
       "      <td>3</td>\n",
       "      <td>48.0</td>\n",
       "      <td>70.0</td>\n",
       "      <td>1.005</td>\n",
       "      <td>4.0</td>\n",
       "      <td>0.0</td>\n",
       "      <td>normal</td>\n",
       "      <td>abnormal</td>\n",
       "      <td>present</td>\n",
       "      <td>notpresent</td>\n",
       "      <td>117.0</td>\n",
       "      <td>56.0</td>\n",
       "      <td>3.8</td>\n",
       "      <td>111.0</td>\n",
       "      <td>2.5</td>\n",
       "      <td>11.2</td>\n",
       "      <td>32</td>\n",
       "      <td>6700</td>\n",
       "      <td>3.9</td>\n",
       "      <td>yes</td>\n",
       "      <td>no</td>\n",
       "      <td>no</td>\n",
       "      <td>poor</td>\n",
       "      <td>yes</td>\n",
       "      <td>yes</td>\n",
       "      <td>ckd</td>\n",
       "    </tr>\n",
       "    <tr>\n",
       "      <th>4</th>\n",
       "      <td>4</td>\n",
       "      <td>51.0</td>\n",
       "      <td>80.0</td>\n",
       "      <td>1.010</td>\n",
       "      <td>2.0</td>\n",
       "      <td>0.0</td>\n",
       "      <td>normal</td>\n",
       "      <td>normal</td>\n",
       "      <td>notpresent</td>\n",
       "      <td>notpresent</td>\n",
       "      <td>106.0</td>\n",
       "      <td>26.0</td>\n",
       "      <td>1.4</td>\n",
       "      <td>NaN</td>\n",
       "      <td>NaN</td>\n",
       "      <td>11.6</td>\n",
       "      <td>35</td>\n",
       "      <td>7300</td>\n",
       "      <td>4.6</td>\n",
       "      <td>no</td>\n",
       "      <td>no</td>\n",
       "      <td>no</td>\n",
       "      <td>good</td>\n",
       "      <td>no</td>\n",
       "      <td>no</td>\n",
       "      <td>ckd</td>\n",
       "    </tr>\n",
       "  </tbody>\n",
       "</table>\n",
       "</div>"
      ],
      "text/plain": [
       "   id   age    bp     sg   al   su     rbc        pc         pcc          ba  \\\n",
       "0   0  48.0  80.0  1.020  1.0  0.0     NaN    normal  notpresent  notpresent   \n",
       "1   1   7.0  50.0  1.020  4.0  0.0     NaN    normal  notpresent  notpresent   \n",
       "2   2  62.0  80.0  1.010  2.0  3.0  normal    normal  notpresent  notpresent   \n",
       "3   3  48.0  70.0  1.005  4.0  0.0  normal  abnormal     present  notpresent   \n",
       "4   4  51.0  80.0  1.010  2.0  0.0  normal    normal  notpresent  notpresent   \n",
       "\n",
       "     bgr    bu   sc    sod  pot  hemo pcv    wc   rc  htn   dm cad appet   pe  \\\n",
       "0  121.0  36.0  1.2    NaN  NaN  15.4  44  7800  5.2  yes  yes  no  good   no   \n",
       "1    NaN  18.0  0.8    NaN  NaN  11.3  38  6000  NaN   no   no  no  good   no   \n",
       "2  423.0  53.0  1.8    NaN  NaN   9.6  31  7500  NaN   no  yes  no  poor   no   \n",
       "3  117.0  56.0  3.8  111.0  2.5  11.2  32  6700  3.9  yes   no  no  poor  yes   \n",
       "4  106.0  26.0  1.4    NaN  NaN  11.6  35  7300  4.6   no   no  no  good   no   \n",
       "\n",
       "   ane classification  \n",
       "0   no            ckd  \n",
       "1   no            ckd  \n",
       "2  yes            ckd  \n",
       "3  yes            ckd  \n",
       "4   no            ckd  "
      ]
     },
     "execution_count": 76,
     "metadata": {},
     "output_type": "execute_result"
    }
   ],
   "source": [
    "df = pd.read_csv(\"temp/kidney_disease.csv\")\n",
    "pd.set_option('display.max_columns', None)\n",
    "df.head(5) # lets print 5 records"
   ]
  },
  {
   "cell_type": "code",
   "execution_count": 77,
   "id": "c1a082b0-dd54-4250-b385-1bfc8d3e44a1",
   "metadata": {},
   "outputs": [
    {
     "data": {
      "text/plain": [
       "Index(['id', 'age', 'bp', 'sg', 'al', 'su', 'rbc', 'pc', 'pcc', 'ba', 'bgr',\n",
       "       'bu', 'sc', 'sod', 'pot', 'hemo', 'pcv', 'wc', 'rc', 'htn', 'dm', 'cad',\n",
       "       'appet', 'pe', 'ane', 'classification'],\n",
       "      dtype='object')"
      ]
     },
     "execution_count": 77,
     "metadata": {},
     "output_type": "execute_result"
    }
   ],
   "source": [
    "# I do not know what these column means. So lets see if we can make some sense of these names:\n",
    "df.columns"
   ]
  },
  {
   "cell_type": "markdown",
   "id": "2a3d1a4f-3ee1-4955-be23-05df2b4f6b87",
   "metadata": {},
   "source": [
    "## The columns (Thank you Opensource LLM models):\n",
    "- age: Age of the patient (in years).\n",
    "- bp (Blood Pressure): Blood pressure measurement (in mmHg).\n",
    "- sg (Specific Gravity): A measure of urine concentration. Indicates the kidney's ability to concentrate urine. Typical values: 1.005–1.030.\n",
    "- al (Albumin): The amount of albumin (a protein) in the urine. Graded on a scale: 0 (absent) to 5 (severe presence).\n",
    "- su (Sugar): The amount of sugar in the urine. Graded similarly to albumin: 0 (absent) to 5 (severe presence).\n",
    "- rbc (Red Blood Cells): Presence of red blood cells in the urine: normal and abnormal (indicative of bleeding or other issues).\n",
    "- pc (Pus Cell): Indicates the presence of pus cells in the urine. normal or abnormal.\n",
    "- pcc (Pus Cell Clumps): Indicates the presence of clumps of pus cells in the urine: present or notpresent.\n",
    "- ba (Bacteria): Presence of bacteria in the urine: present or notpresent.\n",
    "- bgr (Blood Glucose Random): Random blood glucose level (in mg/dL).\n",
    "- bu (Blood Urea): Blood urea level (in mg/dL).\n",
    "- sc (Serum Creatinine): Serum creatinine level (in mg/dL). An important marker of kidney function.\n",
    "- sod (Sodium): Sodium level in the blood (in mEq/L).\n",
    "- pot (Potassium): Potassium level in the blood (in mEq/L).\n",
    "- hemo (Hemoglobin): Hemoglobin level in the blood (in g/dL).\n",
    "- pcv (Packed Cell Volume): Volume percentage of red blood cells in the blood.\n",
    "- wc (White Blood Cell Count): White blood cell count (in cells per cubic mm).\n",
    "- rc (Red Blood Cell Count): Red blood cell count (in million cells per cubic mm).\n",
    "\n",
    "It helps to know your data(AKA domain experience). But in a practical world, you will get projects from so many domains that you would not be expected to know every domain and their column. <b>So, know your statistical tools</b>"
   ]
  },
  {
   "cell_type": "markdown",
   "id": "24f6d4a3-a57b-49e7-80a9-a1e627c6c629",
   "metadata": {},
   "source": [
    "# Exploratory Data Analysis + Data Preprocessing\n",
    "Lets do EDA. Lets try to understand the stats on this DS."
   ]
  },
  {
   "cell_type": "code",
   "execution_count": 78,
   "id": "20c9c0e1-d05c-4032-a047-9573b62fabbd",
   "metadata": {},
   "outputs": [
    {
     "data": {
      "text/plain": [
       "(400, 26)"
      ]
     },
     "execution_count": 78,
     "metadata": {},
     "output_type": "execute_result"
    }
   ],
   "source": [
    "df.shape # gives rows(records) and columns(features)"
   ]
  },
  {
   "cell_type": "markdown",
   "id": "344e300c",
   "metadata": {
    "id": "Pwc4KtBUwvkt",
    "outputId": "958cc065-ae92-4a9f-de5e-8ada2b14cabc",
    "papermill": {
     "duration": 0.031991,
     "end_time": "2022-03-04T05:24:09.522439",
     "exception": false,
     "start_time": "2022-03-04T05:24:09.490448",
     "status": "completed"
    },
    "tags": [],
    "vscode": {
     "languageId": "ini"
    }
   },
   "source": [
    "So there are 400 records/instances. (Ideally this is not a lot of records. But then you will also not find an hospital having influx of CKD patient/data in real world.) There are 26 columns, aka features"
   ]
  },
  {
   "cell_type": "code",
   "execution_count": 79,
   "id": "37a2ba4b-81aa-470a-8915-3a6642264737",
   "metadata": {},
   "outputs": [
    {
     "name": "stdout",
     "output_type": "stream",
     "text": [
      "<class 'pandas.core.frame.DataFrame'>\n",
      "RangeIndex: 400 entries, 0 to 399\n",
      "Data columns (total 26 columns):\n",
      " #   Column          Non-Null Count  Dtype  \n",
      "---  ------          --------------  -----  \n",
      " 0   id              400 non-null    int64  \n",
      " 1   age             391 non-null    float64\n",
      " 2   bp              388 non-null    float64\n",
      " 3   sg              353 non-null    float64\n",
      " 4   al              354 non-null    float64\n",
      " 5   su              351 non-null    float64\n",
      " 6   rbc             248 non-null    object \n",
      " 7   pc              335 non-null    object \n",
      " 8   pcc             396 non-null    object \n",
      " 9   ba              396 non-null    object \n",
      " 10  bgr             356 non-null    float64\n",
      " 11  bu              381 non-null    float64\n",
      " 12  sc              383 non-null    float64\n",
      " 13  sod             313 non-null    float64\n",
      " 14  pot             312 non-null    float64\n",
      " 15  hemo            348 non-null    float64\n",
      " 16  pcv             330 non-null    object \n",
      " 17  wc              295 non-null    object \n",
      " 18  rc              270 non-null    object \n",
      " 19  htn             398 non-null    object \n",
      " 20  dm              398 non-null    object \n",
      " 21  cad             398 non-null    object \n",
      " 22  appet           399 non-null    object \n",
      " 23  pe              399 non-null    object \n",
      " 24  ane             399 non-null    object \n",
      " 25  classification  400 non-null    object \n",
      "dtypes: float64(11), int64(1), object(14)\n",
      "memory usage: 81.4+ KB\n"
     ]
    }
   ],
   "source": [
    "# Lets see how many values are non-null and what type of columns are we dealing with.\n",
    "df.info()"
   ]
  },
  {
   "cell_type": "markdown",
   "id": "0a16defe-fbb4-459c-bf41-d2e10205565e",
   "metadata": {},
   "source": [
    "### You can see how many values are null for each column\n",
    "Example: \n",
    "- age has 400-391 = 9 null values\n",
    "- bp  has 400-388=2 null vlaues and so on\n",
    "- classification which is the target variable has 400-400 = 0 null values. GOOD"
   ]
  },
  {
   "cell_type": "code",
   "execution_count": 80,
   "id": "7d6f1e19-6b95-409a-864c-26fc53925ee9",
   "metadata": {},
   "outputs": [
    {
     "name": "stdout",
     "output_type": "stream",
     "text": [
      "df['classification']unique():['ckd' 'ckd\\t' 'notckd']\n",
      "df['classification'].value_counts():\n",
      " classification\n",
      "ckd       248\n",
      "notckd    150\n",
      "ckd\\t       2\n",
      "Name: count, dtype: int64\n"
     ]
    }
   ],
   "source": [
    "# Lets see how CKD and non-CKD we have.\n",
    "print(f\"df['classification']unique():{df.classification.unique()}\")\n",
    "print(f\"df['classification'].value_counts():\\n {df['classification'].value_counts()}\")"
   ]
  },
  {
   "cell_type": "markdown",
   "id": "98a759a4-528e-4d73-909c-4c04a55fb821",
   "metadata": {},
   "source": [
    "#### classification labels are shown as 3 types...should be only 2\n",
    "Only 2 are mislabelled. Not a big problem here, but lets fix this\n",
    "- I could have dropped the 2 records, but by looking at it I can tell that s/o was typing fast and hit TAB key. So its fixable."
   ]
  },
  {
   "cell_type": "code",
   "execution_count": 81,
   "id": "d0cd1cf3-17d6-4749-b375-a4afa7964531",
   "metadata": {},
   "outputs": [
    {
     "name": "stdout",
     "output_type": "stream",
     "text": [
      "df['classification']unique():['ckd' 'notckd']\n"
     ]
    },
    {
     "name": "stderr",
     "output_type": "stream",
     "text": [
      "C:\\Users\\hi\\AppData\\Local\\Temp\\ipykernel_11948\\3369103093.py:7: FutureWarning: the convert_dtype parameter is deprecated and will be removed in a future version.  Do ``ser.astype(object).apply()`` instead if you want ``convert_dtype=False``.\n",
      "  df['classification']=df['classification'].apply(fix_classif,convert_dtype=True)\n"
     ]
    }
   ],
   "source": [
    "def fix_classif(x):\n",
    "  if x=='ckd\\t':\n",
    "    return 'ckd'\n",
    "  else:\n",
    "    return x\n",
    "\n",
    "df['classification']=df['classification'].apply(fix_classif,convert_dtype=True)\n",
    "print(f\"df['classification']unique():{df.classification.unique()}\")"
   ]
  },
  {
   "cell_type": "code",
   "execution_count": 82,
   "id": "bcc692f9-e589-49eb-9eed-5e4d2862c06a",
   "metadata": {},
   "outputs": [
    {
     "name": "stderr",
     "output_type": "stream",
     "text": [
      "C:\\Users\\hi\\AppData\\Local\\Temp\\ipykernel_11948\\2609069464.py:2: FutureWarning: \n",
      "\n",
      "Passing `palette` without assigning `hue` is deprecated and will be removed in v0.14.0. Assign the `x` variable to `hue` and set `legend=False` for the same effect.\n",
      "\n",
      "  sns.countplot(x='classification', data=df, palette='viridis')\n"
     ]
    },
    {
     "data": {
      "text/plain": [
       "<Axes: xlabel='classification', ylabel='count'>"
      ]
     },
     "execution_count": 82,
     "metadata": {},
     "output_type": "execute_result"
    },
    {
     "data": {
      "image/png": "[encoded data removed]",
      "text/plain": [
       "<Figure size 640x480 with 1 Axes>"
      ]
     },
     "metadata": {},
     "output_type": "display_data"
    }
   ],
   "source": [
    "#Lets look at CKD count visually.\n",
    "sns.countplot(x='classification', data=df, palette='viridis')\n"
   ]
  },
  {
   "cell_type": "markdown",
   "id": "a1f3a134-663b-4cf0-9be1-3d6d5c19b744",
   "metadata": {},
   "source": [
    "### Little imbalanced. Could produce biased result\n",
    "Solution is get more data that is balanced. But reallistically, its hard to find a population with balanced data where 50% of people have CKD and others don't. So data is good."
   ]
  },
  {
   "cell_type": "code",
   "execution_count": 83,
   "id": "b3252cd0-5e9a-4c0b-9002-a9eaea1e88c2",
   "metadata": {},
   "outputs": [
    {
     "data": {
      "text/html": [
       "<div>\n",
       "<style scoped>\n",
       "    .dataframe tbody tr th:only-of-type {\n",
       "        vertical-align: middle;\n",
       "    }\n",
       "\n",
       "    .dataframe tbody tr th {\n",
       "        vertical-align: top;\n",
       "    }\n",
       "\n",
       "    .dataframe thead th {\n",
       "        text-align: right;\n",
       "    }\n",
       "</style>\n",
       "<table border=\"1\" class=\"dataframe\">\n",
       "  <thead>\n",
       "    <tr style=\"text-align: right;\">\n",
       "      <th></th>\n",
       "      <th>id</th>\n",
       "      <th>age</th>\n",
       "      <th>bp</th>\n",
       "      <th>sg</th>\n",
       "      <th>al</th>\n",
       "      <th>su</th>\n",
       "      <th>bgr</th>\n",
       "      <th>bu</th>\n",
       "      <th>sc</th>\n",
       "      <th>sod</th>\n",
       "      <th>pot</th>\n",
       "      <th>hemo</th>\n",
       "    </tr>\n",
       "  </thead>\n",
       "  <tbody>\n",
       "    <tr>\n",
       "      <th>count</th>\n",
       "      <td>400.000000</td>\n",
       "      <td>391.000000</td>\n",
       "      <td>388.000000</td>\n",
       "      <td>353.000000</td>\n",
       "      <td>354.000000</td>\n",
       "      <td>351.000000</td>\n",
       "      <td>356.000000</td>\n",
       "      <td>381.000000</td>\n",
       "      <td>383.000000</td>\n",
       "      <td>313.000000</td>\n",
       "      <td>312.000000</td>\n",
       "      <td>348.000000</td>\n",
       "    </tr>\n",
       "    <tr>\n",
       "      <th>mean</th>\n",
       "      <td>199.500000</td>\n",
       "      <td>51.483376</td>\n",
       "      <td>76.469072</td>\n",
       "      <td>1.017408</td>\n",
       "      <td>1.016949</td>\n",
       "      <td>0.450142</td>\n",
       "      <td>148.036517</td>\n",
       "      <td>57.425722</td>\n",
       "      <td>3.072454</td>\n",
       "      <td>137.528754</td>\n",
       "      <td>4.627244</td>\n",
       "      <td>12.526437</td>\n",
       "    </tr>\n",
       "    <tr>\n",
       "      <th>std</th>\n",
       "      <td>115.614301</td>\n",
       "      <td>17.169714</td>\n",
       "      <td>13.683637</td>\n",
       "      <td>0.005717</td>\n",
       "      <td>1.352679</td>\n",
       "      <td>1.099191</td>\n",
       "      <td>79.281714</td>\n",
       "      <td>50.503006</td>\n",
       "      <td>5.741126</td>\n",
       "      <td>10.408752</td>\n",
       "      <td>3.193904</td>\n",
       "      <td>2.912587</td>\n",
       "    </tr>\n",
       "    <tr>\n",
       "      <th>min</th>\n",
       "      <td>0.000000</td>\n",
       "      <td>2.000000</td>\n",
       "      <td>50.000000</td>\n",
       "      <td>1.005000</td>\n",
       "      <td>0.000000</td>\n",
       "      <td>0.000000</td>\n",
       "      <td>22.000000</td>\n",
       "      <td>1.500000</td>\n",
       "      <td>0.400000</td>\n",
       "      <td>4.500000</td>\n",
       "      <td>2.500000</td>\n",
       "      <td>3.100000</td>\n",
       "    </tr>\n",
       "    <tr>\n",
       "      <th>25%</th>\n",
       "      <td>99.750000</td>\n",
       "      <td>42.000000</td>\n",
       "      <td>70.000000</td>\n",
       "      <td>1.010000</td>\n",
       "      <td>0.000000</td>\n",
       "      <td>0.000000</td>\n",
       "      <td>99.000000</td>\n",
       "      <td>27.000000</td>\n",
       "      <td>0.900000</td>\n",
       "      <td>135.000000</td>\n",
       "      <td>3.800000</td>\n",
       "      <td>10.300000</td>\n",
       "    </tr>\n",
       "    <tr>\n",
       "      <th>50%</th>\n",
       "      <td>199.500000</td>\n",
       "      <td>55.000000</td>\n",
       "      <td>80.000000</td>\n",
       "      <td>1.020000</td>\n",
       "      <td>0.000000</td>\n",
       "      <td>0.000000</td>\n",
       "      <td>121.000000</td>\n",
       "      <td>42.000000</td>\n",
       "      <td>1.300000</td>\n",
       "      <td>138.000000</td>\n",
       "      <td>4.400000</td>\n",
       "      <td>12.650000</td>\n",
       "    </tr>\n",
       "    <tr>\n",
       "      <th>75%</th>\n",
       "      <td>299.250000</td>\n",
       "      <td>64.500000</td>\n",
       "      <td>80.000000</td>\n",
       "      <td>1.020000</td>\n",
       "      <td>2.000000</td>\n",
       "      <td>0.000000</td>\n",
       "      <td>163.000000</td>\n",
       "      <td>66.000000</td>\n",
       "      <td>2.800000</td>\n",
       "      <td>142.000000</td>\n",
       "      <td>4.900000</td>\n",
       "      <td>15.000000</td>\n",
       "    </tr>\n",
       "    <tr>\n",
       "      <th>max</th>\n",
       "      <td>399.000000</td>\n",
       "      <td>90.000000</td>\n",
       "      <td>180.000000</td>\n",
       "      <td>1.025000</td>\n",
       "      <td>5.000000</td>\n",
       "      <td>5.000000</td>\n",
       "      <td>490.000000</td>\n",
       "      <td>391.000000</td>\n",
       "      <td>76.000000</td>\n",
       "      <td>163.000000</td>\n",
       "      <td>47.000000</td>\n",
       "      <td>17.800000</td>\n",
       "    </tr>\n",
       "  </tbody>\n",
       "</table>\n",
       "</div>"
      ],
      "text/plain": [
       "               id         age          bp          sg          al          su  \\\n",
       "count  400.000000  391.000000  388.000000  353.000000  354.000000  351.000000   \n",
       "mean   199.500000   51.483376   76.469072    1.017408    1.016949    0.450142   \n",
       "std    115.614301   17.169714   13.683637    0.005717    1.352679    1.099191   \n",
       "min      0.000000    2.000000   50.000000    1.005000    0.000000    0.000000   \n",
       "25%     99.750000   42.000000   70.000000    1.010000    0.000000    0.000000   \n",
       "50%    199.500000   55.000000   80.000000    1.020000    0.000000    0.000000   \n",
       "75%    299.250000   64.500000   80.000000    1.020000    2.000000    0.000000   \n",
       "max    399.000000   90.000000  180.000000    1.025000    5.000000    5.000000   \n",
       "\n",
       "              bgr          bu          sc         sod         pot        hemo  \n",
       "count  356.000000  381.000000  383.000000  313.000000  312.000000  348.000000  \n",
       "mean   148.036517   57.425722    3.072454  137.528754    4.627244   12.526437  \n",
       "std     79.281714   50.503006    5.741126   10.408752    3.193904    2.912587  \n",
       "min     22.000000    1.500000    0.400000    4.500000    2.500000    3.100000  \n",
       "25%     99.000000   27.000000    0.900000  135.000000    3.800000   10.300000  \n",
       "50%    121.000000   42.000000    1.300000  138.000000    4.400000   12.650000  \n",
       "75%    163.000000   66.000000    2.800000  142.000000    4.900000   15.000000  \n",
       "max    490.000000  391.000000   76.000000  163.000000   47.000000   17.800000  "
      ]
     },
     "execution_count": 83,
     "metadata": {},
     "output_type": "execute_result"
    }
   ],
   "source": [
    "df.describe()"
   ]
  },
  {
   "cell_type": "markdown",
   "id": "884479fe-2f1b-4ed5-8f5b-72a2e87f1954",
   "metadata": {},
   "source": [
    "## Any duplicates ??\n",
    "If found , you should drop them."
   ]
  },
  {
   "cell_type": "code",
   "execution_count": 84,
   "id": "16078d6b-9292-479b-a399-8f62caad5831",
   "metadata": {},
   "outputs": [
    {
     "name": "stdout",
     "output_type": "stream",
     "text": [
      "0      False\n",
      "1      False\n",
      "2      False\n",
      "3      False\n",
      "4      False\n",
      "       ...  \n",
      "395    False\n",
      "396    False\n",
      "397    False\n",
      "398    False\n",
      "399    False\n",
      "Length: 400, dtype: bool\n"
     ]
    }
   ],
   "source": [
    "# find duplicate rows\n",
    "duplicate_rows = df.duplicated()\n",
    "print(duplicate_rows)"
   ]
  },
  {
   "cell_type": "markdown",
   "id": "989eb7c4-9b56-42eb-a553-279086b8e0ae",
   "metadata": {},
   "source": [
    "## GOOD no duplicate rows\n"
   ]
  },
  {
   "cell_type": "code",
   "execution_count": 85,
   "id": "7c808e59-1023-4b7c-b51d-f67ea3d11556",
   "metadata": {},
   "outputs": [
    {
     "data": {
      "text/html": [
       "<div>\n",
       "<style scoped>\n",
       "    .dataframe tbody tr th:only-of-type {\n",
       "        vertical-align: middle;\n",
       "    }\n",
       "\n",
       "    .dataframe tbody tr th {\n",
       "        vertical-align: top;\n",
       "    }\n",
       "\n",
       "    .dataframe thead th {\n",
       "        text-align: right;\n",
       "    }\n",
       "</style>\n",
       "<table border=\"1\" class=\"dataframe\">\n",
       "  <thead>\n",
       "    <tr style=\"text-align: right;\">\n",
       "      <th></th>\n",
       "      <th>age</th>\n",
       "      <th>bp</th>\n",
       "      <th>sg</th>\n",
       "      <th>al</th>\n",
       "      <th>su</th>\n",
       "      <th>rbc</th>\n",
       "      <th>pc</th>\n",
       "      <th>pcc</th>\n",
       "      <th>ba</th>\n",
       "      <th>bgr</th>\n",
       "      <th>bu</th>\n",
       "      <th>sc</th>\n",
       "      <th>sod</th>\n",
       "      <th>pot</th>\n",
       "      <th>hemo</th>\n",
       "      <th>pcv</th>\n",
       "      <th>wc</th>\n",
       "      <th>rc</th>\n",
       "      <th>htn</th>\n",
       "      <th>dm</th>\n",
       "      <th>cad</th>\n",
       "      <th>appet</th>\n",
       "      <th>pe</th>\n",
       "      <th>ane</th>\n",
       "      <th>classification</th>\n",
       "    </tr>\n",
       "  </thead>\n",
       "  <tbody>\n",
       "    <tr>\n",
       "      <th>0</th>\n",
       "      <td>48.0</td>\n",
       "      <td>80.0</td>\n",
       "      <td>1.020</td>\n",
       "      <td>1.0</td>\n",
       "      <td>0.0</td>\n",
       "      <td>NaN</td>\n",
       "      <td>normal</td>\n",
       "      <td>notpresent</td>\n",
       "      <td>notpresent</td>\n",
       "      <td>121.0</td>\n",
       "      <td>36.0</td>\n",
       "      <td>1.2</td>\n",
       "      <td>NaN</td>\n",
       "      <td>NaN</td>\n",
       "      <td>15.4</td>\n",
       "      <td>44</td>\n",
       "      <td>7800</td>\n",
       "      <td>5.2</td>\n",
       "      <td>yes</td>\n",
       "      <td>yes</td>\n",
       "      <td>no</td>\n",
       "      <td>good</td>\n",
       "      <td>no</td>\n",
       "      <td>no</td>\n",
       "      <td>ckd</td>\n",
       "    </tr>\n",
       "    <tr>\n",
       "      <th>1</th>\n",
       "      <td>7.0</td>\n",
       "      <td>50.0</td>\n",
       "      <td>1.020</td>\n",
       "      <td>4.0</td>\n",
       "      <td>0.0</td>\n",
       "      <td>NaN</td>\n",
       "      <td>normal</td>\n",
       "      <td>notpresent</td>\n",
       "      <td>notpresent</td>\n",
       "      <td>NaN</td>\n",
       "      <td>18.0</td>\n",
       "      <td>0.8</td>\n",
       "      <td>NaN</td>\n",
       "      <td>NaN</td>\n",
       "      <td>11.3</td>\n",
       "      <td>38</td>\n",
       "      <td>6000</td>\n",
       "      <td>NaN</td>\n",
       "      <td>no</td>\n",
       "      <td>no</td>\n",
       "      <td>no</td>\n",
       "      <td>good</td>\n",
       "      <td>no</td>\n",
       "      <td>no</td>\n",
       "      <td>ckd</td>\n",
       "    </tr>\n",
       "    <tr>\n",
       "      <th>2</th>\n",
       "      <td>62.0</td>\n",
       "      <td>80.0</td>\n",
       "      <td>1.010</td>\n",
       "      <td>2.0</td>\n",
       "      <td>3.0</td>\n",
       "      <td>normal</td>\n",
       "      <td>normal</td>\n",
       "      <td>notpresent</td>\n",
       "      <td>notpresent</td>\n",
       "      <td>423.0</td>\n",
       "      <td>53.0</td>\n",
       "      <td>1.8</td>\n",
       "      <td>NaN</td>\n",
       "      <td>NaN</td>\n",
       "      <td>9.6</td>\n",
       "      <td>31</td>\n",
       "      <td>7500</td>\n",
       "      <td>NaN</td>\n",
       "      <td>no</td>\n",
       "      <td>yes</td>\n",
       "      <td>no</td>\n",
       "      <td>poor</td>\n",
       "      <td>no</td>\n",
       "      <td>yes</td>\n",
       "      <td>ckd</td>\n",
       "    </tr>\n",
       "    <tr>\n",
       "      <th>3</th>\n",
       "      <td>48.0</td>\n",
       "      <td>70.0</td>\n",
       "      <td>1.005</td>\n",
       "      <td>4.0</td>\n",
       "      <td>0.0</td>\n",
       "      <td>normal</td>\n",
       "      <td>abnormal</td>\n",
       "      <td>present</td>\n",
       "      <td>notpresent</td>\n",
       "      <td>117.0</td>\n",
       "      <td>56.0</td>\n",
       "      <td>3.8</td>\n",
       "      <td>111.0</td>\n",
       "      <td>2.5</td>\n",
       "      <td>11.2</td>\n",
       "      <td>32</td>\n",
       "      <td>6700</td>\n",
       "      <td>3.9</td>\n",
       "      <td>yes</td>\n",
       "      <td>no</td>\n",
       "      <td>no</td>\n",
       "      <td>poor</td>\n",
       "      <td>yes</td>\n",
       "      <td>yes</td>\n",
       "      <td>ckd</td>\n",
       "    </tr>\n",
       "    <tr>\n",
       "      <th>4</th>\n",
       "      <td>51.0</td>\n",
       "      <td>80.0</td>\n",
       "      <td>1.010</td>\n",
       "      <td>2.0</td>\n",
       "      <td>0.0</td>\n",
       "      <td>normal</td>\n",
       "      <td>normal</td>\n",
       "      <td>notpresent</td>\n",
       "      <td>notpresent</td>\n",
       "      <td>106.0</td>\n",
       "      <td>26.0</td>\n",
       "      <td>1.4</td>\n",
       "      <td>NaN</td>\n",
       "      <td>NaN</td>\n",
       "      <td>11.6</td>\n",
       "      <td>35</td>\n",
       "      <td>7300</td>\n",
       "      <td>4.6</td>\n",
       "      <td>no</td>\n",
       "      <td>no</td>\n",
       "      <td>no</td>\n",
       "      <td>good</td>\n",
       "      <td>no</td>\n",
       "      <td>no</td>\n",
       "      <td>ckd</td>\n",
       "    </tr>\n",
       "    <tr>\n",
       "      <th>...</th>\n",
       "      <td>...</td>\n",
       "      <td>...</td>\n",
       "      <td>...</td>\n",
       "      <td>...</td>\n",
       "      <td>...</td>\n",
       "      <td>...</td>\n",
       "      <td>...</td>\n",
       "      <td>...</td>\n",
       "      <td>...</td>\n",
       "      <td>...</td>\n",
       "      <td>...</td>\n",
       "      <td>...</td>\n",
       "      <td>...</td>\n",
       "      <td>...</td>\n",
       "      <td>...</td>\n",
       "      <td>...</td>\n",
       "      <td>...</td>\n",
       "      <td>...</td>\n",
       "      <td>...</td>\n",
       "      <td>...</td>\n",
       "      <td>...</td>\n",
       "      <td>...</td>\n",
       "      <td>...</td>\n",
       "      <td>...</td>\n",
       "      <td>...</td>\n",
       "    </tr>\n",
       "    <tr>\n",
       "      <th>395</th>\n",
       "      <td>55.0</td>\n",
       "      <td>80.0</td>\n",
       "      <td>1.020</td>\n",
       "      <td>0.0</td>\n",
       "      <td>0.0</td>\n",
       "      <td>normal</td>\n",
       "      <td>normal</td>\n",
       "      <td>notpresent</td>\n",
       "      <td>notpresent</td>\n",
       "      <td>140.0</td>\n",
       "      <td>49.0</td>\n",
       "      <td>0.5</td>\n",
       "      <td>150.0</td>\n",
       "      <td>4.9</td>\n",
       "      <td>15.7</td>\n",
       "      <td>47</td>\n",
       "      <td>6700</td>\n",
       "      <td>4.9</td>\n",
       "      <td>no</td>\n",
       "      <td>no</td>\n",
       "      <td>no</td>\n",
       "      <td>good</td>\n",
       "      <td>no</td>\n",
       "      <td>no</td>\n",
       "      <td>notckd</td>\n",
       "    </tr>\n",
       "    <tr>\n",
       "      <th>396</th>\n",
       "      <td>42.0</td>\n",
       "      <td>70.0</td>\n",
       "      <td>1.025</td>\n",
       "      <td>0.0</td>\n",
       "      <td>0.0</td>\n",
       "      <td>normal</td>\n",
       "      <td>normal</td>\n",
       "      <td>notpresent</td>\n",
       "      <td>notpresent</td>\n",
       "      <td>75.0</td>\n",
       "      <td>31.0</td>\n",
       "      <td>1.2</td>\n",
       "      <td>141.0</td>\n",
       "      <td>3.5</td>\n",
       "      <td>16.5</td>\n",
       "      <td>54</td>\n",
       "      <td>7800</td>\n",
       "      <td>6.2</td>\n",
       "      <td>no</td>\n",
       "      <td>no</td>\n",
       "      <td>no</td>\n",
       "      <td>good</td>\n",
       "      <td>no</td>\n",
       "      <td>no</td>\n",
       "      <td>notckd</td>\n",
       "    </tr>\n",
       "    <tr>\n",
       "      <th>397</th>\n",
       "      <td>12.0</td>\n",
       "      <td>80.0</td>\n",
       "      <td>1.020</td>\n",
       "      <td>0.0</td>\n",
       "      <td>0.0</td>\n",
       "      <td>normal</td>\n",
       "      <td>normal</td>\n",
       "      <td>notpresent</td>\n",
       "      <td>notpresent</td>\n",
       "      <td>100.0</td>\n",
       "      <td>26.0</td>\n",
       "      <td>0.6</td>\n",
       "      <td>137.0</td>\n",
       "      <td>4.4</td>\n",
       "      <td>15.8</td>\n",
       "      <td>49</td>\n",
       "      <td>6600</td>\n",
       "      <td>5.4</td>\n",
       "      <td>no</td>\n",
       "      <td>no</td>\n",
       "      <td>no</td>\n",
       "      <td>good</td>\n",
       "      <td>no</td>\n",
       "      <td>no</td>\n",
       "      <td>notckd</td>\n",
       "    </tr>\n",
       "    <tr>\n",
       "      <th>398</th>\n",
       "      <td>17.0</td>\n",
       "      <td>60.0</td>\n",
       "      <td>1.025</td>\n",
       "      <td>0.0</td>\n",
       "      <td>0.0</td>\n",
       "      <td>normal</td>\n",
       "      <td>normal</td>\n",
       "      <td>notpresent</td>\n",
       "      <td>notpresent</td>\n",
       "      <td>114.0</td>\n",
       "      <td>50.0</td>\n",
       "      <td>1.0</td>\n",
       "      <td>135.0</td>\n",
       "      <td>4.9</td>\n",
       "      <td>14.2</td>\n",
       "      <td>51</td>\n",
       "      <td>7200</td>\n",
       "      <td>5.9</td>\n",
       "      <td>no</td>\n",
       "      <td>no</td>\n",
       "      <td>no</td>\n",
       "      <td>good</td>\n",
       "      <td>no</td>\n",
       "      <td>no</td>\n",
       "      <td>notckd</td>\n",
       "    </tr>\n",
       "    <tr>\n",
       "      <th>399</th>\n",
       "      <td>58.0</td>\n",
       "      <td>80.0</td>\n",
       "      <td>1.025</td>\n",
       "      <td>0.0</td>\n",
       "      <td>0.0</td>\n",
       "      <td>normal</td>\n",
       "      <td>normal</td>\n",
       "      <td>notpresent</td>\n",
       "      <td>notpresent</td>\n",
       "      <td>131.0</td>\n",
       "      <td>18.0</td>\n",
       "      <td>1.1</td>\n",
       "      <td>141.0</td>\n",
       "      <td>3.5</td>\n",
       "      <td>15.8</td>\n",
       "      <td>53</td>\n",
       "      <td>6800</td>\n",
       "      <td>6.1</td>\n",
       "      <td>no</td>\n",
       "      <td>no</td>\n",
       "      <td>no</td>\n",
       "      <td>good</td>\n",
       "      <td>no</td>\n",
       "      <td>no</td>\n",
       "      <td>notckd</td>\n",
       "    </tr>\n",
       "  </tbody>\n",
       "</table>\n",
       "<p>400 rows × 25 columns</p>\n",
       "</div>"
      ],
      "text/plain": [
       "      age    bp     sg   al   su     rbc        pc         pcc          ba  \\\n",
       "0    48.0  80.0  1.020  1.0  0.0     NaN    normal  notpresent  notpresent   \n",
       "1     7.0  50.0  1.020  4.0  0.0     NaN    normal  notpresent  notpresent   \n",
       "2    62.0  80.0  1.010  2.0  3.0  normal    normal  notpresent  notpresent   \n",
       "3    48.0  70.0  1.005  4.0  0.0  normal  abnormal     present  notpresent   \n",
       "4    51.0  80.0  1.010  2.0  0.0  normal    normal  notpresent  notpresent   \n",
       "..    ...   ...    ...  ...  ...     ...       ...         ...         ...   \n",
       "395  55.0  80.0  1.020  0.0  0.0  normal    normal  notpresent  notpresent   \n",
       "396  42.0  70.0  1.025  0.0  0.0  normal    normal  notpresent  notpresent   \n",
       "397  12.0  80.0  1.020  0.0  0.0  normal    normal  notpresent  notpresent   \n",
       "398  17.0  60.0  1.025  0.0  0.0  normal    normal  notpresent  notpresent   \n",
       "399  58.0  80.0  1.025  0.0  0.0  normal    normal  notpresent  notpresent   \n",
       "\n",
       "       bgr    bu   sc    sod  pot  hemo pcv    wc   rc  htn   dm cad appet  \\\n",
       "0    121.0  36.0  1.2    NaN  NaN  15.4  44  7800  5.2  yes  yes  no  good   \n",
       "1      NaN  18.0  0.8    NaN  NaN  11.3  38  6000  NaN   no   no  no  good   \n",
       "2    423.0  53.0  1.8    NaN  NaN   9.6  31  7500  NaN   no  yes  no  poor   \n",
       "3    117.0  56.0  3.8  111.0  2.5  11.2  32  6700  3.9  yes   no  no  poor   \n",
       "4    106.0  26.0  1.4    NaN  NaN  11.6  35  7300  4.6   no   no  no  good   \n",
       "..     ...   ...  ...    ...  ...   ...  ..   ...  ...  ...  ...  ..   ...   \n",
       "395  140.0  49.0  0.5  150.0  4.9  15.7  47  6700  4.9   no   no  no  good   \n",
       "396   75.0  31.0  1.2  141.0  3.5  16.5  54  7800  6.2   no   no  no  good   \n",
       "397  100.0  26.0  0.6  137.0  4.4  15.8  49  6600  5.4   no   no  no  good   \n",
       "398  114.0  50.0  1.0  135.0  4.9  14.2  51  7200  5.9   no   no  no  good   \n",
       "399  131.0  18.0  1.1  141.0  3.5  15.8  53  6800  6.1   no   no  no  good   \n",
       "\n",
       "      pe  ane classification  \n",
       "0     no   no            ckd  \n",
       "1     no   no            ckd  \n",
       "2     no  yes            ckd  \n",
       "3    yes  yes            ckd  \n",
       "4     no   no            ckd  \n",
       "..   ...  ...            ...  \n",
       "395   no   no         notckd  \n",
       "396   no   no         notckd  \n",
       "397   no   no         notckd  \n",
       "398   no   no         notckd  \n",
       "399   no   no         notckd  \n",
       "\n",
       "[400 rows x 25 columns]"
      ]
     },
     "execution_count": 85,
     "metadata": {},
     "output_type": "execute_result"
    }
   ],
   "source": [
    "df = df.drop(['id'],axis=1) # do not really need this\n",
    "df"
   ]
  },
  {
   "cell_type": "markdown",
   "id": "01c8b8e3-6845-4447-956b-54cf0dbdd00e",
   "metadata": {},
   "source": [
    "### columns are both numerical/categorical in nature. \n"
   ]
  },
  {
   "cell_type": "markdown",
   "id": "dfd01246-1d6d-4e93-98e5-063ce6124d79",
   "metadata": {},
   "source": [
    "## Allright ...few columns are categorical in nature.\n",
    "PCA is primarily used in numerical data. So lets keep numerical data and drop categorical data. \n",
    "- We are losing some information here by dropping categorical data...only test will show if this was a good decision.\n",
    "  "
   ]
  },
  {
   "cell_type": "code",
   "execution_count": 86,
   "id": "624eded1-4fa4-4e49-b92f-01fbecfdb402",
   "metadata": {},
   "outputs": [
    {
     "name": "stdout",
     "output_type": "stream",
     "text": [
      "total columns that are numeric = 11\n",
      "numeric columns= Index(['age', 'bp', 'sg', 'al', 'su', 'bgr', 'bu', 'sc', 'sod', 'pot', 'hemo'], dtype='object')\n",
      "total columns that are category 14\n",
      "category columns= Index(['rbc', 'pc', 'pcc', 'ba', 'pcv', 'wc', 'rc', 'htn', 'dm', 'cad',\n",
      "       'appet', 'pe', 'ane', 'classification'],\n",
      "      dtype='object')\n"
     ]
    }
   ],
   "source": [
    "numeric_data = df.select_dtypes(include=[np.number])\n",
    "categorical_data = df.select_dtypes(exclude=[np.number])\n",
    "\n",
    "print(\"total columns that are numeric =\",numeric_data.shape[1])\n",
    "print(\"numeric columns=\", numeric_data.columns)\n",
    "print(\"total columns that are category\",categorical_data.shape[1])\n",
    "print(\"category columns=\", categorical_data.columns)"
   ]
  },
  {
   "cell_type": "markdown",
   "id": "3d688be2-b16a-4fc0-b9af-41345dd57bdb",
   "metadata": {},
   "source": [
    "### Verify that these are categorical in nature and drop them\n",
    "I checked and wc,rc are not categorical . So do not drop these columns\n"
   ]
  },
  {
   "cell_type": "code",
   "execution_count": 87,
   "id": "6155c046-02dc-4231-85f7-521b38db6be8",
   "metadata": {},
   "outputs": [],
   "source": [
    "df = df.drop(['rbc', 'pc', 'pcc', 'ba', 'htn', 'dm', 'cad', 'appet', 'pe', 'ane', ], axis=1) "
   ]
  },
  {
   "cell_type": "code",
   "execution_count": 88,
   "id": "3401493d",
   "metadata": {
    "id": "xIwA2wmqxAMD",
    "outputId": "e61829d0-01f7-4d20-fd95-43114d850247",
    "papermill": {
     "duration": 0.053665,
     "end_time": "2022-03-04T05:24:09.596909",
     "exception": false,
     "start_time": "2022-03-04T05:24:09.543244",
     "status": "completed"
    },
    "tags": []
   },
   "outputs": [
    {
     "data": {
      "text/plain": [
       "age                 9\n",
       "bp                 12\n",
       "sg                 47\n",
       "al                 46\n",
       "su                 49\n",
       "bgr                44\n",
       "bu                 19\n",
       "sc                 17\n",
       "sod                87\n",
       "pot                88\n",
       "hemo               52\n",
       "pcv                70\n",
       "wc                105\n",
       "rc                130\n",
       "classification      0\n",
       "dtype: int64"
      ]
     },
     "execution_count": 88,
     "metadata": {},
     "output_type": "execute_result"
    }
   ],
   "source": [
    "df.isnull().sum() # check if there are any null/missing values and show there total sum"
   ]
  },
  {
   "attachments": {},
   "cell_type": "markdown",
   "id": "e547cf32",
   "metadata": {},
   "source": [
    " So we see that there are missing values.\n",
    "\n",
    " ### Handle missing values\n",
    " In case there are missing values:df.dropna(), df.fillna(value_here), or  df['A'] = df['A'].fillna(df['A'].mean()), KNN, etc"
   ]
  },
  {
   "cell_type": "code",
   "execution_count": 89,
   "id": "5f03916f-b3fd-41c3-bffd-b3de41de1357",
   "metadata": {},
   "outputs": [
    {
     "name": "stdout",
     "output_type": "stream",
     "text": [
      "age                2.25\n",
      "bp                 3.00\n",
      "sg                11.75\n",
      "al                11.50\n",
      "su                12.25\n",
      "bgr               11.00\n",
      "bu                 4.75\n",
      "sc                 4.25\n",
      "sod               21.75\n",
      "pot               22.00\n",
      "hemo              13.00\n",
      "pcv               17.50\n",
      "wc                26.25\n",
      "rc                32.50\n",
      "classification     0.00\n",
      "dtype: float64\n"
     ]
    }
   ],
   "source": [
    "# Lets see how much percentage of values are missing.\n",
    "missing_count_prcntg = ((df.isnull().sum() / df.index.size) * 100)\n",
    "print(missing_count_prcntg)"
   ]
  },
  {
   "cell_type": "code",
   "execution_count": 90,
   "id": "5f4b11f1-4ebd-4e0e-8772-994173638665",
   "metadata": {},
   "outputs": [
    {
     "data": {
      "text/plain": [
       "age               0\n",
       "bp                0\n",
       "sg                0\n",
       "al                0\n",
       "su                0\n",
       "bgr               0\n",
       "bu                0\n",
       "sc                0\n",
       "sod               0\n",
       "pot               0\n",
       "hemo              0\n",
       "classification    0\n",
       "dtype: int64"
      ]
     },
     "execution_count": 90,
     "metadata": {},
     "output_type": "execute_result"
    }
   ],
   "source": [
    "from sklearn.impute import KNNImputer\n",
    "# Apply KNN imputation only to the numeric columns\n",
    "imputer = KNNImputer(n_neighbors=3)\n",
    "X = pd.DataFrame(imputer.fit_transform(df[numeric_data.columns]), columns=numeric_data.columns)\n",
    "y = df['classification']\n",
    "\n",
    "df = pd.concat([X,y], axis=1)\n",
    "df.isnull().sum()"
   ]
  },
  {
   "cell_type": "markdown",
   "id": "bbf5f4dc-7c8d-4681-8234-8804fbc959f8",
   "metadata": {},
   "source": [
    "## standardize the values\n",
    "To use PCA, standardize the numeric column. \n",
    "### WHY\n",
    "To ensures that all variables contribute equally to the analysis, preventing features with larger ranges from dominating the results due to their scale differences; i.e., standardization gives equal weight to each variable, leading to a more accurate and unbiased interpretation of the principal components. \n",
    "\n",
    "For example feature wc overshadows age, which in turn overshadows sg and so on. We do not want that."
   ]
  },
  {
   "cell_type": "code",
   "execution_count": 91,
   "id": "1e4eeac0-ad2a-436c-9230-545b66b26f7d",
   "metadata": {},
   "outputs": [
    {
     "data": {
      "text/html": [
       "<div>\n",
       "<style scoped>\n",
       "    .dataframe tbody tr th:only-of-type {\n",
       "        vertical-align: middle;\n",
       "    }\n",
       "\n",
       "    .dataframe tbody tr th {\n",
       "        vertical-align: top;\n",
       "    }\n",
       "\n",
       "    .dataframe thead th {\n",
       "        text-align: right;\n",
       "    }\n",
       "</style>\n",
       "<table border=\"1\" class=\"dataframe\">\n",
       "  <thead>\n",
       "    <tr style=\"text-align: right;\">\n",
       "      <th></th>\n",
       "      <th>age</th>\n",
       "      <th>bp</th>\n",
       "      <th>sg</th>\n",
       "      <th>al</th>\n",
       "      <th>su</th>\n",
       "      <th>bgr</th>\n",
       "      <th>bu</th>\n",
       "      <th>sc</th>\n",
       "      <th>sod</th>\n",
       "      <th>pot</th>\n",
       "      <th>hemo</th>\n",
       "      <th>classification</th>\n",
       "    </tr>\n",
       "  </thead>\n",
       "  <tbody>\n",
       "    <tr>\n",
       "      <th>0</th>\n",
       "      <td>-0.180904</td>\n",
       "      <td>0.273878</td>\n",
       "      <td>0.502300</td>\n",
       "      <td>-0.033462</td>\n",
       "      <td>-0.439297</td>\n",
       "      <td>-0.361293</td>\n",
       "      <td>-0.440039</td>\n",
       "      <td>-0.335644</td>\n",
       "      <td>0.429484</td>\n",
       "      <td>-0.119745</td>\n",
       "      <td>1.004171</td>\n",
       "      <td>ckd</td>\n",
       "    </tr>\n",
       "    <tr>\n",
       "      <th>1</th>\n",
       "      <td>-2.561348</td>\n",
       "      <td>-1.931852</td>\n",
       "      <td>0.502300</td>\n",
       "      <td>2.283150</td>\n",
       "      <td>-0.439297</td>\n",
       "      <td>-0.300484</td>\n",
       "      <td>-0.801150</td>\n",
       "      <td>-0.405056</td>\n",
       "      <td>0.011155</td>\n",
       "      <td>-0.225949</td>\n",
       "      <td>-0.465042</td>\n",
       "      <td>ckd</td>\n",
       "    </tr>\n",
       "    <tr>\n",
       "      <th>2</th>\n",
       "      <td>0.631930</td>\n",
       "      <td>0.273878</td>\n",
       "      <td>-1.318728</td>\n",
       "      <td>0.738742</td>\n",
       "      <td>2.394878</td>\n",
       "      <td>3.573929</td>\n",
       "      <td>-0.098990</td>\n",
       "      <td>-0.231525</td>\n",
       "      <td>-0.232870</td>\n",
       "      <td>-0.119745</td>\n",
       "      <td>-1.074227</td>\n",
       "      <td>ckd</td>\n",
       "    </tr>\n",
       "    <tr>\n",
       "      <th>3</th>\n",
       "      <td>-0.180904</td>\n",
       "      <td>-0.461365</td>\n",
       "      <td>-2.229243</td>\n",
       "      <td>2.283150</td>\n",
       "      <td>-0.439297</td>\n",
       "      <td>-0.413415</td>\n",
       "      <td>-0.038804</td>\n",
       "      <td>0.115535</td>\n",
       "      <td>-2.777704</td>\n",
       "      <td>-0.733367</td>\n",
       "      <td>-0.500876</td>\n",
       "      <td>ckd</td>\n",
       "    </tr>\n",
       "    <tr>\n",
       "      <th>4</th>\n",
       "      <td>-0.006725</td>\n",
       "      <td>0.273878</td>\n",
       "      <td>-1.318728</td>\n",
       "      <td>0.738742</td>\n",
       "      <td>-0.439297</td>\n",
       "      <td>-0.556751</td>\n",
       "      <td>-0.640656</td>\n",
       "      <td>-0.300938</td>\n",
       "      <td>0.185459</td>\n",
       "      <td>-0.119745</td>\n",
       "      <td>-0.357538</td>\n",
       "      <td>ckd</td>\n",
       "    </tr>\n",
       "    <tr>\n",
       "      <th>...</th>\n",
       "      <td>...</td>\n",
       "      <td>...</td>\n",
       "      <td>...</td>\n",
       "      <td>...</td>\n",
       "      <td>...</td>\n",
       "      <td>...</td>\n",
       "      <td>...</td>\n",
       "      <td>...</td>\n",
       "      <td>...</td>\n",
       "      <td>...</td>\n",
       "      <td>...</td>\n",
       "      <td>...</td>\n",
       "    </tr>\n",
       "    <tr>\n",
       "      <th>395</th>\n",
       "      <td>0.225513</td>\n",
       "      <td>0.273878</td>\n",
       "      <td>0.502300</td>\n",
       "      <td>-0.805666</td>\n",
       "      <td>-0.439297</td>\n",
       "      <td>-0.113713</td>\n",
       "      <td>-0.179236</td>\n",
       "      <td>-0.457115</td>\n",
       "      <td>1.301003</td>\n",
       "      <td>0.116264</td>\n",
       "      <td>1.111674</td>\n",
       "      <td>notckd</td>\n",
       "    </tr>\n",
       "    <tr>\n",
       "      <th>396</th>\n",
       "      <td>-0.529262</td>\n",
       "      <td>-0.461365</td>\n",
       "      <td>1.412815</td>\n",
       "      <td>-0.805666</td>\n",
       "      <td>-0.439297</td>\n",
       "      <td>-0.960698</td>\n",
       "      <td>-0.540347</td>\n",
       "      <td>-0.335644</td>\n",
       "      <td>0.359763</td>\n",
       "      <td>-0.379354</td>\n",
       "      <td>1.398350</td>\n",
       "      <td>notckd</td>\n",
       "    </tr>\n",
       "    <tr>\n",
       "      <th>397</th>\n",
       "      <td>-2.271050</td>\n",
       "      <td>0.273878</td>\n",
       "      <td>0.502300</td>\n",
       "      <td>-0.805666</td>\n",
       "      <td>-0.439297</td>\n",
       "      <td>-0.634935</td>\n",
       "      <td>-0.640656</td>\n",
       "      <td>-0.439762</td>\n",
       "      <td>-0.058566</td>\n",
       "      <td>-0.060743</td>\n",
       "      <td>1.147509</td>\n",
       "      <td>notckd</td>\n",
       "    </tr>\n",
       "    <tr>\n",
       "      <th>398</th>\n",
       "      <td>-1.980752</td>\n",
       "      <td>-1.196609</td>\n",
       "      <td>1.412815</td>\n",
       "      <td>-0.805666</td>\n",
       "      <td>-0.439297</td>\n",
       "      <td>-0.452507</td>\n",
       "      <td>-0.159175</td>\n",
       "      <td>-0.370350</td>\n",
       "      <td>-0.267731</td>\n",
       "      <td>0.116264</td>\n",
       "      <td>0.574157</td>\n",
       "      <td>notckd</td>\n",
       "    </tr>\n",
       "    <tr>\n",
       "      <th>399</th>\n",
       "      <td>0.399692</td>\n",
       "      <td>0.273878</td>\n",
       "      <td>1.412815</td>\n",
       "      <td>-0.805666</td>\n",
       "      <td>-0.439297</td>\n",
       "      <td>-0.230988</td>\n",
       "      <td>-0.801150</td>\n",
       "      <td>-0.352997</td>\n",
       "      <td>0.359763</td>\n",
       "      <td>-0.379354</td>\n",
       "      <td>1.147509</td>\n",
       "      <td>notckd</td>\n",
       "    </tr>\n",
       "  </tbody>\n",
       "</table>\n",
       "<p>400 rows × 12 columns</p>\n",
       "</div>"
      ],
      "text/plain": [
       "          age        bp        sg        al        su       bgr        bu  \\\n",
       "0   -0.180904  0.273878  0.502300 -0.033462 -0.439297 -0.361293 -0.440039   \n",
       "1   -2.561348 -1.931852  0.502300  2.283150 -0.439297 -0.300484 -0.801150   \n",
       "2    0.631930  0.273878 -1.318728  0.738742  2.394878  3.573929 -0.098990   \n",
       "3   -0.180904 -0.461365 -2.229243  2.283150 -0.439297 -0.413415 -0.038804   \n",
       "4   -0.006725  0.273878 -1.318728  0.738742 -0.439297 -0.556751 -0.640656   \n",
       "..        ...       ...       ...       ...       ...       ...       ...   \n",
       "395  0.225513  0.273878  0.502300 -0.805666 -0.439297 -0.113713 -0.179236   \n",
       "396 -0.529262 -0.461365  1.412815 -0.805666 -0.439297 -0.960698 -0.540347   \n",
       "397 -2.271050  0.273878  0.502300 -0.805666 -0.439297 -0.634935 -0.640656   \n",
       "398 -1.980752 -1.196609  1.412815 -0.805666 -0.439297 -0.452507 -0.159175   \n",
       "399  0.399692  0.273878  1.412815 -0.805666 -0.439297 -0.230988 -0.801150   \n",
       "\n",
       "           sc       sod       pot      hemo classification  \n",
       "0   -0.335644  0.429484 -0.119745  1.004171            ckd  \n",
       "1   -0.405056  0.011155 -0.225949 -0.465042            ckd  \n",
       "2   -0.231525 -0.232870 -0.119745 -1.074227            ckd  \n",
       "3    0.115535 -2.777704 -0.733367 -0.500876            ckd  \n",
       "4   -0.300938  0.185459 -0.119745 -0.357538            ckd  \n",
       "..        ...       ...       ...       ...            ...  \n",
       "395 -0.457115  1.301003  0.116264  1.111674         notckd  \n",
       "396 -0.335644  0.359763 -0.379354  1.398350         notckd  \n",
       "397 -0.439762 -0.058566 -0.060743  1.147509         notckd  \n",
       "398 -0.370350 -0.267731  0.116264  0.574157         notckd  \n",
       "399 -0.352997  0.359763 -0.379354  1.147509         notckd  \n",
       "\n",
       "[400 rows x 12 columns]"
      ]
     },
     "execution_count": 91,
     "metadata": {},
     "output_type": "execute_result"
    }
   ],
   "source": [
    "from sklearn.preprocessing import StandardScaler\n",
    "X_std = StandardScaler().fit_transform(df[numeric_data.columns])\n",
    "X = pd.DataFrame(X_std, columns=numeric_data.columns)\n",
    "\n",
    "df = pd.concat([X,y], axis=1)\n",
    "df"
   ]
  },
  {
   "cell_type": "code",
   "execution_count": 92,
   "id": "1722727c-562d-416b-b82d-a82eac9dd10a",
   "metadata": {},
   "outputs": [
    {
     "name": "stdout",
     "output_type": "stream",
     "text": [
      "   Feature  Mutual Information\n",
      "2       sg            0.396725\n",
      "10    hemo            0.379789\n",
      "7       sc            0.352186\n",
      "3       al            0.320306\n",
      "8      sod            0.225287\n",
      "6       bu            0.171324\n",
      "5      bgr            0.158091\n",
      "9      pot            0.149674\n",
      "1       bp            0.129510\n",
      "4       su            0.120225\n",
      "0      age            0.045073\n"
     ]
    }
   ],
   "source": [
    "# optional ...lets explore the dataset little more to get familiar with the tools available \n",
    "# How much information gain is in each feature.\n",
    "from sklearn.feature_selection import mutual_info_classif\n",
    "\n",
    "# Calculate mutual information ( AKA measure of information gain)\n",
    "mutual_info = mutual_info_classif(X, y)\n",
    "\n",
    "# Lets show the results\n",
    "mutual_info_results = pd.DataFrame({\n",
    "    'Feature': X.columns,\n",
    "    'Mutual Information': mutual_info\n",
    "})\n",
    "\n",
    "# Sort by mutual information to see which feature explains the most\n",
    "print(mutual_info_results.sort_values(by='Mutual Information', ascending=False))\n"
   ]
  },
  {
   "cell_type": "markdown",
   "id": "f66f4c55-ea90-49f1-930a-b0b0aceaec92",
   "metadata": {},
   "source": [
    "# Interpret above\n",
    "This is where domain experience can help you become little comfortable with data.\n",
    "\n",
    "- Above displays which features(from X) contribute the most information about the target(y). \n",
    "- sg (Specific Gravity) that measure of urine concentrtion. (Indicates the kidney's ability to concentrate urine.) It is importatnt\n",
    "- hemo (Hemoglobin) hemoglobin level in the blood (in g/dL). It is importatnt\n",
    "- sc (Serum Creatinine) level (in mg/dL). <b> An important marker of kidney function.</b>"
   ]
  },
  {
   "cell_type": "code",
   "execution_count": 93,
   "id": "2afcbd5e-a2db-46d4-824a-b7d7f7d8a8e8",
   "metadata": {},
   "outputs": [
    {
     "data": {
      "text/plain": [
       "<Axes: >"
      ]
     },
     "execution_count": 93,
     "metadata": {},
     "output_type": "execute_result"
    },
    {
     "data": {
      "image/png": "[encoded data removed]",
      "text/plain": [
       "<Figure size 1800x1800 with 2 Axes>"
      ]
     },
     "metadata": {},
     "output_type": "display_data"
    }
   ],
   "source": [
    "# We can do two things - we have 23 columns now including our target variable\n",
    "# Either we use the whole data or just take some part of it which is the most important \n",
    "# for our model to help in prediction.\n",
    "\n",
    "plt.figure(figsize=(18, 18)) # width = 18, ht=18\n",
    "sns.heatmap(X.corr(), # pairwise correlation between the numerical columns. -1 to +1 \n",
    "            annot=True,\n",
    "            cmap='viridis',\n",
    "            linewidths=.5\n",
    ")"
   ]
  },
  {
   "cell_type": "markdown",
   "id": "041717f3-afb2-4d58-8e75-c45910b1d53c",
   "metadata": {},
   "source": [
    "## Observation\n",
    "So we see a correlation value is in the range of (1 to - 0.6) exculding the 1s.\n",
    "For removing some of the columns so that our dataset is smaller in dimesion and yet still holds most of the information, we can remove the highly\n",
    "correlated columns. \n",
    "- we can remove su or bgr\n",
    "and so on...\n",
    "\n",
    "##  OR \n",
    "\n",
    "A better way is to use PCA, which calculates linear combinations of your variables in such way that they get \"summarized\" in fewer variables. Lets play around with 1,2,5,7 10 components. Lets see where this takes us.\n"
   ]
  },
  {
   "cell_type": "code",
   "execution_count": 94,
   "id": "884d39f3",
   "metadata": {
    "id": "2Vi45xxV0UrI",
    "papermill": {
     "duration": 0.345814,
     "end_time": "2022-03-04T05:24:13.566407",
     "exception": false,
     "start_time": "2022-03-04T05:24:13.220593",
     "status": "completed"
    },
    "tags": []
   },
   "outputs": [],
   "source": [
    "from sklearn.decomposition import PCA\n",
    "\n",
    "pca1  = PCA(n_components=1)\n",
    "pca2  = PCA(n_components=2)\n",
    "pca5  = PCA(n_components = 5)\n",
    "pca7 = PCA(n_components = 7)\n",
    "pca10 = PCA(n_components = 10)\n",
    "\n",
    "# Lets take 2, 7 and 15 PC's\n",
    "pca_fit1 = pca1.fit_transform(X)\n",
    "pca_fit2 = pca2.fit_transform(X)\n",
    "pca_fit5 = pca5.fit_transform(X)\n",
    "pca_fit7 = pca7.fit_transform(X)\n",
    "pca_fit10 = pca10.fit_transform(X)\n"
   ]
  },
  {
   "cell_type": "code",
   "execution_count": 95,
   "id": "c8023977-0b0e-4181-9573-c74e020a5fe3",
   "metadata": {},
   "outputs": [],
   "source": [
    "## pca1 : lets work with only 1 PC"
   ]
  },
  {
   "cell_type": "code",
   "execution_count": 96,
   "id": "51ca5585-1f38-40d4-94bf-9ce482eb34f1",
   "metadata": {},
   "outputs": [
    {
     "name": "stdout",
     "output_type": "stream",
     "text": [
      "RFC_accuracy_train= 100.0 %\n"
     ]
    }
   ],
   "source": [
    "# You can use both of the reduced dataset to see how much accuracy or predictive power of the model is affected.\n",
    "from sklearn.model_selection import train_test_split\n",
    "from sklearn.metrics import accuracy_score\n",
    "from sklearn.ensemble import RandomForestClassifier\n",
    "\n",
    "Xtrain, Xtest, ytrain, ytest = train_test_split(pca_fit1, y, test_size=0.2, random_state = 42)\n",
    "RFC_model = RandomForestClassifier(n_estimators=100, n_jobs = -1)\n",
    "\n",
    "#Fit\n",
    "RFC_model.fit(Xtrain, ytrain)\n",
    "\n",
    "#make prediction\n",
    "y_pred = RFC_model.predict(Xtest)\n",
    "\n",
    "#Checking the accuracy on training dataset.\n",
    "RFC_accuracy_train = round(RFC_model.score(Xtrain, ytrain)*100,2)\n",
    "print(\"RFC_accuracy_train=\",round(RFC_accuracy_train, 2), '%')"
   ]
  },
  {
   "cell_type": "markdown",
   "id": "12b5f5da-bcee-4cbc-81f2-a508ea072f63",
   "metadata": {},
   "source": [
    "### WOOOWWW\n",
    "100% accuracy...this should elate you and scare you. The model may be overfiting. Lets try to see how it does on test dataset."
   ]
  },
  {
   "cell_type": "code",
   "execution_count": 97,
   "id": "88d00a6b-1d4b-4179-8eee-a741419b7408",
   "metadata": {},
   "outputs": [
    {
     "name": "stdout",
     "output_type": "stream",
     "text": [
      "RFC_accuracy_test= 92.5 %\n"
     ]
    }
   ],
   "source": [
    "RFC_accuracy_test = round(RFC_model.score(Xtest, ytest)*100,2)\n",
    "print(\"RFC_accuracy_test=\",round(RFC_accuracy_test, 2), '%')"
   ]
  },
  {
   "cell_type": "markdown",
   "id": "0e1c02cc-e3b8-4871-a121-646633815c45",
   "metadata": {},
   "source": [
    "OK...not bad\n",
    "\n",
    "## pca2 : 2 principal components analysis"
   ]
  },
  {
   "cell_type": "code",
   "execution_count": 98,
   "id": "2f6a4173-391d-442b-8dce-dffcde1e0dff",
   "metadata": {},
   "outputs": [
    {
     "name": "stdout",
     "output_type": "stream",
     "text": [
      "RFC_accuracy_train= 100.0 %\n"
     ]
    }
   ],
   "source": [
    "# You can use both of the reduced dataset to see how much accuracy or predictive power of the model is affected.\n",
    "from sklearn.model_selection import train_test_split\n",
    "from sklearn.metrics import accuracy_score\n",
    "from sklearn.ensemble import RandomForestClassifier\n",
    "\n",
    "Xtrain, Xtest, ytrain, ytest = train_test_split(pca_fit2, y, test_size=0.2, random_state = 42)\n",
    "RFC_model = RandomForestClassifier(n_estimators=100, n_jobs = -1)\n",
    "\n",
    "#Fit\n",
    "RFC_model.fit(Xtrain, ytrain)\n",
    "\n",
    "#make prediction\n",
    "y_pred = RFC_model.predict(Xtest)\n",
    "\n",
    "#Checking the accuracy on training dataset.\n",
    "RFC_accuracy_train = round(RFC_model.score(Xtrain, ytrain)*100,2)\n",
    "print(\"RFC_accuracy_train=\",round(RFC_accuracy_train, 2), '%')"
   ]
  },
  {
   "cell_type": "code",
   "execution_count": 99,
   "id": "eaf3c561-f3e5-4f19-9468-ac715ee01073",
   "metadata": {},
   "outputs": [
    {
     "name": "stdout",
     "output_type": "stream",
     "text": [
      "RFC_accuracy_test= 95.0 %\n"
     ]
    }
   ],
   "source": [
    "RFC_accuracy_test = round(RFC_model.score(Xtest, ytest)*100,2)\n",
    "print(\"RFC_accuracy_test=\",round(RFC_accuracy_test, 2), '%')"
   ]
  },
  {
   "cell_type": "markdown",
   "id": "245e3fa4-fd8f-455b-9c67-45ac9dfe7fde",
   "metadata": {},
   "source": [
    "### Accuracy did not go up.\n",
    "Lets see what happens with other PCA's "
   ]
  },
  {
   "cell_type": "markdown",
   "id": "22ae221e-bb36-43c5-936f-29834441e232",
   "metadata": {},
   "source": [
    " ## pca5 : 5 Principal components analysis"
   ]
  },
  {
   "cell_type": "code",
   "execution_count": 100,
   "id": "2767badc",
   "metadata": {
    "id": "CJPcLtSx1HMs",
    "papermill": {
     "duration": 0.039845,
     "end_time": "2022-03-04T05:24:13.902765",
     "exception": false,
     "start_time": "2022-03-04T05:24:13.862920",
     "status": "completed"
    },
    "tags": []
   },
   "outputs": [
    {
     "name": "stdout",
     "output_type": "stream",
     "text": [
      "RFC_accuracy_train= 100.0 %\n",
      "RFC_accuracy_test= 96.25 %\n"
     ]
    }
   ],
   "source": [
    "# You can use both of the reduced dataset to see how much accuracy or predictive power of the model is affected.\n",
    "from sklearn.model_selection import train_test_split\n",
    "from sklearn.metrics import accuracy_score\n",
    "from sklearn.ensemble import RandomForestClassifier\n",
    "\n",
    "Xtrain, Xtest, ytrain, ytest = train_test_split(pca_fit5, y, test_size=0.2, random_state = 42)\n",
    "RFC_model = RandomForestClassifier(n_estimators=100, n_jobs = -1)\n",
    "\n",
    "#Fit\n",
    "RFC_model.fit(Xtrain, ytrain)\n",
    "\n",
    "#make prediction\n",
    "y_pred = RFC_model.predict(Xtest)\n",
    "\n",
    "#Checking the accuracy on training dataset.\n",
    "RFC_accuracy_train = round(RFC_model.score(Xtrain, ytrain)*100,2)\n",
    "print(\"RFC_accuracy_train=\",round(RFC_accuracy_train, 2), '%')\n",
    "\n",
    "RFC_accuracy_test = round(RFC_model.score(Xtest, ytest)*100,2)\n",
    "print(\"RFC_accuracy_test=\",round(RFC_accuracy_test, 2), '%')"
   ]
  },
  {
   "cell_type": "markdown",
   "id": "a22f8a7f-188e-4660-be4b-e8d1b66565bc",
   "metadata": {},
   "source": [
    "#### Interesting....increasing PC from 2 to 5 did some good ..."
   ]
  },
  {
   "cell_type": "markdown",
   "id": "c95eb961-c86b-4385-8a49-07331457b3d4",
   "metadata": {},
   "source": [
    " ## pca7 : 7 Principal components analysis"
   ]
  },
  {
   "cell_type": "code",
   "execution_count": 101,
   "id": "d4766c97-90d5-499a-bd8a-acac1ec21726",
   "metadata": {
    "id": "CJPcLtSx1HMs",
    "papermill": {
     "duration": 0.039845,
     "end_time": "2022-03-04T05:24:13.902765",
     "exception": false,
     "start_time": "2022-03-04T05:24:13.862920",
     "status": "completed"
    },
    "tags": []
   },
   "outputs": [
    {
     "name": "stdout",
     "output_type": "stream",
     "text": [
      "RFC_accuracy_train= 100.0 %\n",
      "RFC_accuracy_test= 96.25 %\n"
     ]
    }
   ],
   "source": [
    "# You can use both of the reduced dataset to see how much accuracy or predictive power of the model is affected.\n",
    "from sklearn.model_selection import train_test_split\n",
    "from sklearn.metrics import accuracy_score\n",
    "from sklearn.ensemble import RandomForestClassifier\n",
    "\n",
    "Xtrain, Xtest, ytrain, ytest = train_test_split(pca_fit7, y, test_size=0.2, random_state = 42)\n",
    "RFC_model = RandomForestClassifier(n_estimators=300, n_jobs = -1)\n",
    "\n",
    "#Fit\n",
    "RFC_model.fit(Xtrain, ytrain)\n",
    "\n",
    "#make prediction\n",
    "y_pred = RFC_model.predict(Xtest)\n",
    "\n",
    "#Checking the accuracy on training dataset.\n",
    "RFC_accuracy_train = round(RFC_model.score(Xtrain, ytrain)*100,2)\n",
    "print(\"RFC_accuracy_train=\",round(RFC_accuracy_train, 2), '%')\n",
    "\n",
    "RFC_accuracy_test = round(RFC_model.score(Xtest, ytest)*100,2)\n",
    "print(\"RFC_accuracy_test=\",round(RFC_accuracy_test, 2), '%')"
   ]
  },
  {
   "cell_type": "markdown",
   "id": "6fec5fa8-0cd5-48bf-98e8-6232d2361232",
   "metadata": {},
   "source": [
    "## save the model and the PCA (pca5 is good)\n",
    "- Do not have to retrain in production\n",
    "- can be resused later\n",
    "- can also be shared with others."
   ]
  },
  {
   "cell_type": "code",
   "execution_count": 64,
   "id": "895e8550",
   "metadata": {
    "id": "hs6_pqmP150h",
    "papermill": {
     "duration": 0.083099,
     "end_time": "2022-03-04T05:24:16.581995",
     "exception": false,
     "start_time": "2022-03-04T05:24:16.498896",
     "status": "completed"
    },
    "tags": []
   },
   "outputs": [],
   "source": [
    "# Save the trained model as a pickle string. \n",
    "# This way do not have retrain the model in production. Saves time and resources\n",
    "import pickle \n",
    "\n",
    "saved_model = pickle.dump(RFC_model, open('KidneyDisease.pickle','wb'))# write in binary format\n",
    "saved_pca = pickle.dump(pca2, open('KidneyDiseasePCA2.pickle','wb')) # would save time in future"
   ]
  },
  {
   "cell_type": "markdown",
   "id": "96ce0bb8-3cfb-42e1-b73e-238145f3f0c9",
   "metadata": {},
   "source": [
    "# Optional\n",
    "Lets see how much variance is being explained by increasing number of PC. "
   ]
  },
  {
   "cell_type": "code",
   "execution_count": 65,
   "id": "909aec3c-6063-4c5d-ada5-d70ab2af9277",
   "metadata": {},
   "outputs": [
    {
     "name": "stdout",
     "output_type": "stream",
     "text": [
      "Explained Variance Ratio of each component:\n",
      "[0.33061079 0.13833354 0.10650774 0.09613664 0.08551143]\n"
     ]
    }
   ],
   "source": [
    "\n",
    "import pandas as pd\n",
    "from sklearn.decomposition import PCA\n",
    "from sklearn.preprocessing import StandardScaler\n",
    "\n",
    "# Standardize the data (important for PCA)\n",
    "scaler = StandardScaler()\n",
    "scaled_X = scaler.fit_transform(X)\n",
    "\n",
    "# Fit PCA (for example, let's use 5 components)\n",
    "pca = PCA(n_components=5)\n",
    "pca.fit(scaled_X)\n",
    "\n",
    "# Get the components (loadings) of the PCA\n",
    "components = pca.components_\n",
    "\n",
    "# Create a DataFrame to better understand the contribution of each feature to each component\n",
    "components_X = pd.DataFrame(components, columns=X.columns)\n",
    "\n",
    "# You can also get the explained variance for each component\n",
    "explained_variance = pca.explained_variance_ratio_\n",
    "\n",
    "print(\"Explained Variance Ratio of each component:\")\n",
    "print(explained_variance)"
   ]
  },
  {
   "cell_type": "markdown",
   "id": "9b9c6d11-51c0-430b-8ecd-a66e5d0dd07d",
   "metadata": {},
   "source": [
    "### Visualize above\n",
    "Lets use number of components as 2, 5, 7"
   ]
  },
  {
   "cell_type": "code",
   "execution_count": 66,
   "id": "843fdff4-a27a-4065-bdc2-38493f5bf39a",
   "metadata": {},
   "outputs": [
    {
     "name": "stdout",
     "output_type": "stream",
     "text": [
      "Explained_variance of 7 components individually:\n",
      " [0.33061079 0.13833354 0.10650774 0.09613664 0.08551143 0.07217199\n",
      " 0.04879815]\n",
      "cumulative_variance upto 7 components:\n",
      " [0.33061079 0.46894433 0.57545207 0.67158871 0.75710014 0.82927213\n",
      " 0.87807028]\n"
     ]
    },
    {
     "data": {
      "image/png": "[encoded data removed]",
      "text/plain": [
       "<Figure size 1000x600 with 1 Axes>"
      ]
     },
     "metadata": {},
     "output_type": "display_data"
    }
   ],
   "source": [
    "import pandas as pd\n",
    "import numpy as np\n",
    "import matplotlib.pyplot as plt\n",
    "import seaborn as sns\n",
    "from sklearn.decomposition import PCA\n",
    "from sklearn.preprocessing import StandardScaler\n",
    "\n",
    "# Assuming 'df' is your DataFrame with numerical values\n",
    "# Standardize the data (important for PCA)\n",
    "scaler = StandardScaler()\n",
    "scaled_X = scaler.fit_transform(X)\n",
    "\n",
    "# Fit PCA (let's use 2 components for this example)\n",
    "n_comp=7\n",
    "pca = PCA(n_components=n_comp) # TODO change this from 2,5, 7, 15,20\n",
    "pca.fit(scaled_X)\n",
    "\n",
    "# Create a DataFrame for the PCA components (loadings)\n",
    "components_X = pd.DataFrame(pca.components_, columns=X.columns)\n",
    "\n",
    "# Plot the Explained Variance Ratio (Scree Plot)\n",
    "explained_variance = pca.explained_variance_ratio_\n",
    "print(f\"Explained_variance of {n_comp} components individually:\\n {explained_variance}\")\n",
    "\n",
    "cumulative_variance = np.cumsum(explained_variance)\n",
    "print(f\"cumulative_variance upto {n_comp} components:\\n {cumulative_variance}\")\n",
    "\n",
    "plt.figure(figsize=(10, 6))\n",
    "plt.bar(range(1, len(explained_variance)+1), explained_variance, alpha=0.7, color='b', label='Explained Variance')\n",
    "plt.plot(range(1, len(explained_variance)+1), np.cumsum(explained_variance), marker='o', color='r', label='Cumulative Explained Variance')\n",
    "plt.title('Scree Plot: Explained Variance vs Principal Components')\n",
    "plt.xlabel('Principal Components')\n",
    "plt.ylabel('Variance Explained')\n",
    "plt.legend()\n",
    "plt.show()\n"
   ]
  },
  {
   "cell_type": "markdown",
   "id": "45e452e3-6285-46d2-aec3-c9f0d8793521",
   "metadata": {},
   "source": [
    "## Analysis of above in table:\n",
    "Explained_variance of 7 components individually:\n",
    "\n",
    "<table style=\"border-collapse: collapse; width: 50%; margin: 10px auto; text-align: center;\">\n",
    "    <thead>\n",
    "        <tr>\n",
    "            <th style=\"border: 1px solid #ddd; padding: 8px; background-color: #f2f2f2;\">Number of PC</th>\n",
    "            <th style=\"border: 1px solid #ddd; padding: 8px; background-color: #f2f2f2;\">Cumulative Variance Expld</th>\n",
    "            <th style=\"border: 1px solid #ddd; padding: 8px; background-color: #f2f2f2;\">Model Accuracy(Train)</th>\n",
    "            <th style=\"border: 1px solid #ddd; padding: 8px; background-color: #f2f2f2;\">Model Accuracy(Test)</th>\n",
    "        </tr>\n",
    "    </thead>\n",
    "    <tbody>\n",
    "        <tr>\n",
    "            <td style=\"border: 1px solid #ddd; padding: 8px;\">1</td>\n",
    "            <td style=\"border: 1px solid #ddd; padding: 8px;\">0.330</td>\n",
    "            <td style=\"border: 1px solid #ddd; padding: 8px;\">100%</td>\n",
    "            <td style=\"border: 1px solid #ddd; padding: 8px;\">92.5%</td>\n",
    "        </tr>\n",
    "        <tr> \n",
    "            <td style=\"border: 1px solid #ddd; padding: 8px;\">2</td>\n",
    "            <td style=\"border: 1px solid #ddd; padding: 8px;\">0.468</td>\n",
    "            <td style=\"border: 1px solid #ddd; padding: 8px;\">100%</td>\n",
    "            <td style=\"border: 1px solid #ddd; padding: 8px;\">95 %</td>\n",
    "        </tr>\n",
    "        <tr>\n",
    "            <td style=\"border: 1px solid #ddd; padding: 8px;\">5</td>\n",
    "            <td style=\"border: 1px solid #ddd; padding: 8px;\">0.757</td>\n",
    "            <td style=\"border: 1px solid #ddd; padding: 8px;\">100%</td>\n",
    "            <td style=\"border: 1px solid #ddd; padding: 8px;\">96.25 %</td>\n",
    "        </tr>\n",
    "        <tr>\n",
    "            <td style=\"border: 1px solid #ddd; padding: 8px;\">7</td>\n",
    "            <td style=\"border: 1px solid #ddd; padding: 8px;\">0.878</td>\n",
    "            <td style=\"border: 1px solid #ddd; padding: 8px;\">100%</td>\n",
    "            <td style=\"border: 1px solid #ddd; padding: 8px;\">96.25 %</td>\n",
    "        </tr>\n",
    "    </tbody>\n",
    "</table>\n"
   ]
  },
  {
   "cell_type": "markdown",
   "id": "f714223d-ca87-430e-99d6-0a16cce43b05",
   "metadata": {},
   "source": [
    "## Thoughts\n",
    "- We dropped categorical data....so there was loss of infor.....BUT, the columns that were dropped did not seem to be important factor in making prediction of CKD.\n",
    "- We only had 400 data points, and quite a few of them were missing values. Experiment by filling missing values with some other and test if accuracy goes up.\n",
    "- Target Ignorance: PCA does not consider the target variable (y). As a result, it might discard components that are unimportant for variance but critical for predicting the target.\n",
    "\n",
    "##### PCA is primarily used in unsupervised learning. Here I used PCA in supervised learning and showed how it can be useful\n",
    "\n",
    "### Key benefits of using PCA in supervised learning (prediction models):\n",
    "- **Dimensionality reduction**: PCA transforms a high-dimensional dataset into a lower-dimensional space while retaining most of the relevant information, making it easier for models to learn patterns and reducing the \"curse of dimensionality\".\n",
    "- **Overfitting prevention**: By selecting the most important features, PCA can help prevent overfitting, where a model learns the training data too closely and performs poorly on new data. \n",
    "- **Noise reduction**: PCA can help remove noise from data by focusing on the major patterns and reducing the influence of irrelevant variations. \n",
    "- **Multicollinearity handling**: When multiple features are highly correlated, PCA can create new, uncorrelated features, addressing the issue of multicollinearity which can negatively impact model performance. \n",
    "- **Computational efficiency**: By reducing the number of features, PCA can speed up the training process of machine learning models. "
   ]
  },
  {
   "cell_type": "code",
   "execution_count": null,
   "id": "287e812e-16d0-4c84-b242-d67de785fd3d",
   "metadata": {},
   "outputs": [],
   "source": []
  }
 ],
 "metadata": {
  "kernelspec": {
   "display_name": "Python 3 (ipykernel)",
   "language": "python",
   "name": "python3"
  },
  "language_info": {
   "codemirror_mode": {
    "name": "ipython",
    "version": 3
   },
   "file_extension": ".py",
   "mimetype": "text/x-python",
   "name": "python",
   "nbconvert_exporter": "python",
   "pygments_lexer": "ipython3",
   "version": "3.9.9"
  },
  "papermill": {
   "default_parameters": {},
   "duration": 18.674175,
   "end_time": "2022-03-04T05:24:17.424114",
   "environment_variables": {},
   "exception": null,
   "input_path": "__notebook__.ipynb",
   "output_path": "__notebook__.ipynb",
   "parameters": {},
   "start_time": "2022-03-04T05:23:58.749939",
   "version": "2.3.3"
  }
 },
 "nbformat": 4,
 "nbformat_minor": 5
}
