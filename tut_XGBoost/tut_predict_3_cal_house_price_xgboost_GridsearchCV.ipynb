{
 "cells": [
  {
   "cell_type": "code",
   "execution_count": 16,
   "id": "c9c4e74e-b731-48b0-92fd-acdb7092043b",
   "metadata": {},
   "outputs": [],
   "source": [
    "from sklearn.datasets import fetch_california_housing\n",
    "from sklearn.model_selection import GridSearchCV, train_test_split\n",
    "from sklearn.metrics import mean_absolute_error, mean_squared_error, r2_score\n",
    "from xgboost import XGBRegressor\n",
    "import numpy as np\n",
    "import pandas as pd"
   ]
  },
  {
   "cell_type": "code",
   "execution_count": 28,
   "id": "94ed2b54-593d-45cb-b46b-8ca13766565b",
   "metadata": {},
   "outputs": [
    {
     "name": "stdout",
     "output_type": "stream",
     "text": [
      "**********\n",
      "   MedInc  HouseAge  AveRooms  AveBedrms  Population  AveOccup  Latitude  \\\n",
      "0  8.3252      41.0  6.984127   1.023810       322.0  2.555556     37.88   \n",
      "1  8.3014      21.0  6.238137   0.971880      2401.0  2.109842     37.86   \n",
      "2  7.2574      52.0  8.288136   1.073446       496.0  2.802260     37.85   \n",
      "3  5.6431      52.0  5.817352   1.073059       558.0  2.547945     37.85   \n",
      "4  3.8462      52.0  6.281853   1.081081       565.0  2.181467     37.85   \n",
      "\n",
      "   Longitude  Target  \n",
      "0    -122.23   4.526  \n",
      "1    -122.22   3.585  \n",
      "2    -122.24   3.521  \n",
      "3    -122.25   3.413  \n",
      "4    -122.25   3.422  \n"
     ]
    }
   ],
   "source": [
    "housing = fetch_california_housing()\n",
    "X, y = housing.data, housing.target\n",
    "# print(X)\n",
    "print(\"**********\")\n",
    "# print(y)\n",
    "\n",
    "\n",
    "# Convert to DataFrame and add column names\n",
    "df = pd.DataFrame(X, columns=housing.feature_names)\n",
    "\n",
    "# Add the target variable (house price)\n",
    "df[\"Target\"] = y\n",
    "\n",
    "# Display the first few rows\n",
    "print(df.head())  # Show first 5 records\n"
   ]
  },
  {
   "cell_type": "code",
   "execution_count": 29,
   "id": "7ec5564e-1cfb-4634-9e33-a4c655ee1a1e",
   "metadata": {
    "jupyter": {
     "source_hidden": true
    }
   },
   "outputs": [
    {
     "name": "stdout",
     "output_type": "stream",
     "text": [
      "       longitude  latitude  housing_median_age  population  median_income  \\\n",
      "0        -122.23     37.88                  41         322         8.3252   \n",
      "1        -122.22     37.86                  21        2401         8.3014   \n",
      "2        -122.24     37.85                  52         496         7.2574   \n",
      "3        -122.25     37.85                  52         558         5.6431   \n",
      "4        -122.25     37.85                  52         565         3.8462   \n",
      "...          ...       ...                 ...         ...            ...   \n",
      "20635    -121.09     39.48                  25         845         1.5603   \n",
      "20636    -121.21     39.49                  18         356         2.5568   \n",
      "20637    -121.22     39.43                  17        1007         1.7000   \n",
      "20638    -121.32     39.43                  18         741         1.8672   \n",
      "20639    -121.24     39.37                  16        1387         2.3886   \n",
      "\n",
      "       average_rooms  average_bedrooms  \n",
      "0           2.732919          0.400621  \n",
      "1           2.956685          0.460641  \n",
      "2           2.957661          0.383065  \n",
      "3           2.283154          0.421147  \n",
      "4           2.879646          0.495575  \n",
      "...              ...               ...  \n",
      "20635       1.970414          0.442604  \n",
      "20636       1.957865          0.421348  \n",
      "20637       2.238332          0.481629  \n",
      "20638       2.510121          0.551957  \n",
      "20639       2.007931          0.444124  \n",
      "\n",
      "[20640 rows x 7 columns]\n"
     ]
    }
   ],
   "source": [
    "# Load the California Housing dataset\n",
    "#loading the dataset and obtaining info about columns\n",
    "df=pd.read_csv(\"california_housing.csv\")\n",
    "\n",
    "# let's create 2 more columns with the total bedrooms and rooms per population in the same block.\n",
    "df['average_rooms']=df['total_rooms']/df['population']\n",
    "df['average_bedrooms']=df['total_bedrooms']/df['population']\n",
    "\n",
    "#Choosing the dependant variable and the regressors. In this case we want to predict the housing price\n",
    "X=df[['longitude', #\n",
    " 'latitude', #\n",
    " 'housing_median_age', #\n",
    " 'population', #\n",
    " 'median_income', # \n",
    " # 'ocean_proximity',\n",
    " 'average_rooms', #\n",
    " 'average_bedrooms']] #\n",
    "\n",
    "y=df['median_house_value']\n",
    "\n",
    "print(X)\n",
    "# print(\"*************\")\n",
    "# print(df.columns)\n",
    "\n"
   ]
  },
  {
   "cell_type": "code",
   "execution_count": 19,
   "id": "33341e0a-a9c9-4a26-b034-28f314e82223",
   "metadata": {},
   "outputs": [
    {
     "name": "stdout",
     "output_type": "stream",
     "text": [
      "Dataset shape: (20640, 7)\n",
      "Features: ['MedInc', 'HouseAge', 'AveRooms', 'AveBedrms', 'Population', 'AveOccup', 'Latitude', 'Longitude']\n"
     ]
    }
   ],
   "source": [
    "# Print key information about the dataset\n",
    "print(f\"Dataset shape: {X.shape}\")\n",
    "print(f\"Features: {housing.feature_names}\")"
   ]
  },
  {
   "cell_type": "code",
   "execution_count": 20,
   "id": "7a013a3d-2b15-40f3-8eba-a491757f7bf3",
   "metadata": {},
   "outputs": [],
   "source": [
    "# Split data into train and test sets\n",
    "X_train, X_test, y_train, y_test = train_test_split(X, y, test_size=0.2, random_state=42)\n",
    "\n"
   ]
  },
  {
   "cell_type": "code",
   "execution_count": 22,
   "id": "ebceaa52-6f64-4f68-953c-123eaa9f8d89",
   "metadata": {},
   "outputs": [
    {
     "name": "stdout",
     "output_type": "stream",
     "text": [
      "Best score: 2147759573.333 (MSE)\n",
      "Best parameters: {'colsample_bytree': 0.8, 'learning_rate': 0.1, 'max_depth': 5, 'n_estimators': 300, 'subsample': 1.0}\n"
     ]
    }
   ],
   "source": [
    "# This takes around 1-2 minutes\n",
    "\n",
    "# Define parameter grid\n",
    "param_grid = {\n",
    "    'max_depth': [3, 4, 5],\n",
    "    'learning_rate': [0.1, 0.01, 0.05],\n",
    "    'n_estimators': [100, 200, 300],\n",
    "    'subsample': [0.8, 1.0],\n",
    "    'colsample_bytree': [0.8, 1.0]\n",
    "}\n",
    "\n",
    "# Create XGBRegressor\n",
    "model = XGBRegressor(objective='reg:squarederror', random_state=42, n_jobs=1)\n",
    "\n",
    "# Perform grid search\n",
    "grid_search = GridSearchCV(estimator=model, param_grid=param_grid, cv=3, n_jobs=-1, scoring='neg_mean_squared_error')\n",
    "grid_search.fit(X_train, y_train)\n",
    "\n",
    "# Print best score and parameters\n",
    "print(f\"Best score: {-grid_search.best_score_:.3f} (MSE)\")\n",
    "print(f\"Best parameters: {grid_search.best_params_}\")\n"
   ]
  },
  {
   "cell_type": "code",
   "execution_count": 25,
   "id": "f4e95a4a-7e62-4d98-9298-31ebdfd972bc",
   "metadata": {},
   "outputs": [],
   "source": [
    "# Access best model\n",
    "best_model = grid_search.best_estimator_\n",
    "\n",
    "# Save best model\n",
    "best_model.save_model('best_model_housing.ubj')"
   ]
  },
  {
   "cell_type": "code",
   "execution_count": 30,
   "id": "ecfeebbb-605b-4bb6-a291-8c6bbcf1ff1b",
   "metadata": {},
   "outputs": [
    {
     "name": "stdout",
     "output_type": "stream",
     "text": [
      "Mean Absolute Error: 32174.545\n",
      "Mean Squared Error: 2409476352.000\n",
      "R^2 Score: 0.816\n",
      "Mean Absolute Percentage Error (MAPE): 19.11%\n"
     ]
    }
   ],
   "source": [
    "# Load saved model\n",
    "loaded_model = XGBRegressor()\n",
    "loaded_model.load_model('best_model_housing.ubj')\n",
    "\n",
    "# Use loaded model for predictions\n",
    "predictions = loaded_model.predict(X_test)\n",
    "\n",
    "# Print evaluation metrics\n",
    "mae = mean_absolute_error(y_test, predictions)\n",
    "mse = mean_squared_error(y_test, predictions)\n",
    "r2 = r2_score(y_test, predictions)\n",
    "print(f\"Mean Absolute Error: {mae:.3f}\") # Not very common\n",
    "print(f\"Mean Squared Error: {mse:.3f}\") # not very common\n",
    "print(f\"R^2 Score: {r2:.3f}\") # very common\n",
    "\n",
    "\n",
    "from sklearn.metrics import mean_absolute_percentage_error\n",
    "mape = mean_absolute_percentage_error(y_test, predictions) * 100\n",
    "print(f\"Mean Absolute Percentage Error (MAPE): {mape:.2f}%\") # very common"
   ]
  },
  {
   "cell_type": "markdown",
   "id": "83165a74-e9c5-4218-806d-08e839525dfd",
   "metadata": {},
   "source": [
    "Example: If R² = 0.816, we say \"81.6% of the variance in the target variable is explained by the model.\"\n",
    "\n",
    "For the most part I focus on R square and MAPE:\n",
    "- if MAPE < 10%, model is excellant\n",
    "- if MAPE is in between 10 - 20 %, model is good\n",
    "- If mape is in between 20 - 50%, model is moderate\n",
    "- If MAPE > 50%, model is highly inaccurate."
   ]
  },
  {
   "cell_type": "code",
   "execution_count": null,
   "id": "91f85b7f-ec91-4477-9648-d204e5c92c29",
   "metadata": {},
   "outputs": [],
   "source": []
  }
 ],
 "metadata": {
  "kernelspec": {
   "display_name": "Python 3 (ipykernel)",
   "language": "python",
   "name": "python3"
  },
  "language_info": {
   "codemirror_mode": {
    "name": "ipython",
    "version": 3
   },
   "file_extension": ".py",
   "mimetype": "text/x-python",
   "name": "python",
   "nbconvert_exporter": "python",
   "pygments_lexer": "ipython3",
   "version": "3.11.2"
  }
 },
 "nbformat": 4,
 "nbformat_minor": 5
}
