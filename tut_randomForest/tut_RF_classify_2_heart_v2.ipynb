{
 "cells": [
  {
   "cell_type": "code",
   "execution_count": 2,
   "metadata": {},
   "outputs": [],
   "source": [
    "import numpy as np\n",
    "import pandas as pd\n",
    "import seaborn as sns\n",
    "import math\n",
    "import matplotlib.pyplot as plt\n",
    "\n",
    "import warnings\n",
    "warnings.filterwarnings(\"ignore\")\n"
   ]
  },
  {
   "cell_type": "code",
   "execution_count": 3,
   "metadata": {
    "collapsed": false,
    "jupyter": {
     "outputs_hidden": false
    }
   },
   "outputs": [],
   "source": [
    "# df = pd.read_csv('heart_disease.csv')\n",
    "df = pd.read_csv('heart_v2.csv')"
   ]
  },
  {
   "cell_type": "code",
   "execution_count": 4,
   "metadata": {
    "collapsed": false,
    "jupyter": {
     "outputs_hidden": false
    }
   },
   "outputs": [
    {
     "data": {
      "text/plain": [
       "age              0\n",
       "sex              0\n",
       "BP               0\n",
       "cholestrol       0\n",
       "heart disease    0\n",
       "dtype: int64"
      ]
     },
     "execution_count": 4,
     "metadata": {},
     "output_type": "execute_result"
    }
   ],
   "source": [
    "df.isnull().sum()"
   ]
  },
  {
   "cell_type": "code",
   "execution_count": 5,
   "metadata": {},
   "outputs": [],
   "source": [
    "from sklearn.model_selection import train_test_split\n",
    "from sklearn.ensemble import RandomForestClassifier\n",
    "from sklearn.metrics import confusion_matrix\n",
    "from sklearn.metrics import precision_recall_fscore_support\n",
    "from sklearn.metrics import accuracy_score"
   ]
  },
  {
   "cell_type": "code",
   "execution_count": 6,
   "metadata": {
    "collapsed": false,
    "jupyter": {
     "outputs_hidden": false
    }
   },
   "outputs": [
    {
     "name": "stdout",
     "output_type": "stream",
     "text": [
      "Accuracy:  0.6617647058823529\n",
      "\n",
      "\n",
      "Confusion Matrix:  [[29 12]\n",
      " [11 16]]\n",
      "\n",
      "\n",
      "Precision:  [0.725      0.57142857]\n",
      "Recall:     [0.70731707 0.59259259]\n",
      "Fscore:     [0.71604938 0.58181818]\n",
      "Support:    [41 27]\n"
     ]
    }
   ],
   "source": [
    "# now lets split the data into train and test\n",
    "from sklearn.model_selection import train_test_split\n",
    "\n",
    "X = df[[\"age\",\"sex\",\"BP\",\"cholestrol\"]]\n",
    "y = df[[\"heart disease\"]]\n",
    "\n",
    "x_train,x_test,y_train,y_test = train_test_split(X,y,test_size=0.25,random_state=42)\n",
    "clf = RandomForestClassifier()\n",
    "clf.fit(x_train,y_train)\n",
    "prediction = clf.predict(x_test)\n",
    "accuracy = accuracy_score(prediction,y_test)\n",
    "cm = confusion_matrix(prediction,y_test)\n",
    "prfs = precision_recall_fscore_support(prediction,y_test)\n",
    "print('Accuracy: ',accuracy)\n",
    "print('\\n')\n",
    "print('Confusion Matrix: ',cm)\n",
    "print('\\n')\n",
    "print('Precision: ', prfs[0])\n",
    "print('Recall:    ', prfs[1])\n",
    "print('Fscore:    ', prfs[2])\n",
    "print('Support:   ', prfs[3])"
   ]
  },
  {
   "cell_type": "code",
   "execution_count": 7,
   "metadata": {},
   "outputs": [
    {
     "name": "stdout",
     "output_type": "stream",
     "text": [
      "Fitting 3 folds for each of 800 candidates, totalling 2400 fits\n",
      "Best Parameters: {'max_depth': 5, 'max_features': 5, 'n_estimators': 7}\n",
      "Best Accuracy: 0.7206\n",
      "\n",
      "Confusion Matrix:\n",
      " [[32  8]\n",
      " [11 17]]\n",
      "\n",
      "Precision: [0.74418605 0.68      ]\n",
      "Recall: [0.8        0.60714286]\n",
      "F-score: [0.77108434 0.64150943]\n",
      "Support: [40 28]\n"
     ]
    }
   ],
   "source": [
    "from sklearn.ensemble import RandomForestClassifier\n",
    "from sklearn.model_selection import GridSearchCV, train_test_split\n",
    "from sklearn.metrics import accuracy_score, confusion_matrix, precision_recall_fscore_support\n",
    "\n",
    "# Define the hyperparameter grid\n",
    "param_grid = {\n",
    "    'n_estimators': range(5, 15),\n",
    "    'max_depth': range(5, 15),\n",
    "    'max_features': range(5, 13)\n",
    "}\n",
    "\n",
    "# Initialize the classifier\n",
    "clf = RandomForestClassifier(random_state=0)\n",
    "\n",
    "# Perform GridSearchCV\n",
    "grid_search = GridSearchCV(clf, param_grid, cv=3, n_jobs=-1, verbose=1, scoring='accuracy')\n",
    "grid_search.fit(x_train, y_train)\n",
    "\n",
    "# Get the best model\n",
    "best_model = grid_search.best_estimator_\n",
    "\n",
    "# Evaluate on the test set\n",
    "y_pred = best_model.predict(x_test)\n",
    "accuracy = accuracy_score(y_test, y_pred)\n",
    "cm = confusion_matrix(y_test, y_pred)\n",
    "prfs = precision_recall_fscore_support(y_test, y_pred)\n",
    "\n",
    "# Print the best parameters and results\n",
    "print(\"Best Parameters:\", grid_search.best_params_)\n",
    "print(f\"Best Accuracy: {accuracy:.4f}\\n\")\n",
    "print(\"Confusion Matrix:\\n\", cm)\n",
    "print(\"\\nPrecision:\", prfs[0])\n",
    "print(\"Recall:\", prfs[1])\n",
    "print(\"F-score:\", prfs[2])\n",
    "print(\"Support:\", prfs[3])\n"
   ]
  },
  {
   "cell_type": "markdown",
   "metadata": {},
   "source": [
    "### Let's test if standardization can improve the accuracy"
   ]
  },
  {
   "cell_type": "code",
   "execution_count": 8,
   "metadata": {},
   "outputs": [
    {
     "name": "stdout",
     "output_type": "stream",
     "text": [
      "        age       sex        BP  cholestrol\n",
      "0  1.712094  0.689500 -0.075410    1.402212\n",
      "1  1.382140 -1.450327 -0.916759    6.093004\n",
      "2  0.282294  0.689500 -0.411950    0.219823\n",
      "3  1.052186  0.689500 -0.187590    0.258589\n",
      "4  2.152032 -1.450327 -0.636310    0.374890\n",
      "**********\n"
     ]
    }
   ],
   "source": [
    "from sklearn.preprocessing import StandardScaler\n",
    "\n",
    "# Initialize the StandardScaler\n",
    "scaler = StandardScaler()\n",
    "\n",
    "# Fit and transform X\n",
    "X_standardized = scaler.fit_transform(X)\n",
    "\n",
    "# Convert back to DataFrame for better readability (optional)\n",
    "import pandas as pd\n",
    "X_standardized = pd.DataFrame(X_standardized, columns=X.columns)\n",
    "\n",
    "# Display standardized values\n",
    "print(X_standardized.head())\n",
    "print(\"**********\")\n",
    "\n",
    "x_train,x_test,y_train,y_test = train_test_split(X_standardized,y,test_size=0.25,random_state=42)"
   ]
  },
  {
   "cell_type": "code",
   "execution_count": 9,
   "metadata": {
    "collapsed": false,
    "jupyter": {
     "outputs_hidden": false
    }
   },
   "outputs": [
    {
     "name": "stdout",
     "output_type": "stream",
     "text": [
      "Fitting 3 folds for each of 800 candidates, totalling 2400 fits\n",
      "Best Parameters: {'max_depth': 5, 'max_features': 5, 'n_estimators': 7}\n",
      "Best Accuracy: 0.7206\n",
      "\n",
      "Confusion Matrix:\n",
      " [[32  8]\n",
      " [11 17]]\n",
      "\n",
      "Precision: [0.74418605 0.68      ]\n",
      "Recall: [0.8        0.60714286]\n",
      "F-score: [0.77108434 0.64150943]\n",
      "Support: [40 28]\n"
     ]
    }
   ],
   "source": [
    "from sklearn.ensemble import RandomForestClassifier\n",
    "from sklearn.model_selection import GridSearchCV, train_test_split\n",
    "from sklearn.metrics import accuracy_score, confusion_matrix, precision_recall_fscore_support\n",
    "\n",
    "# Define the hyperparameter grid\n",
    "param_grid = {\n",
    "    'n_estimators': range(5, 15),\n",
    "    'max_depth': range(5, 15),\n",
    "    'max_features': range(5, 13)\n",
    "}\n",
    "\n",
    "# Initialize the classifier\n",
    "clf = RandomForestClassifier(random_state=0)\n",
    "\n",
    "# Perform GridSearchCV\n",
    "grid_search = GridSearchCV(clf, param_grid, cv=3, n_jobs=-1, verbose=1, scoring='accuracy')\n",
    "grid_search.fit(x_train, y_train)\n",
    "\n",
    "# Get the best model\n",
    "best_model = grid_search.best_estimator_\n",
    "\n",
    "# Evaluate on the test set\n",
    "y_pred = best_model.predict(x_test)\n",
    "accuracy = accuracy_score(y_test, y_pred)\n",
    "cm = confusion_matrix(y_test, y_pred)\n",
    "prfs = precision_recall_fscore_support(y_test, y_pred)\n",
    "\n",
    "# Print the best parameters and results\n",
    "print(\"Best Parameters:\", grid_search.best_params_)\n",
    "print(f\"Best Accuracy: {accuracy:.4f}\\n\")\n",
    "print(\"Confusion Matrix:\\n\", cm)\n",
    "print(\"\\nPrecision:\", prfs[0])\n",
    "print(\"Recall:\", prfs[1])\n",
    "print(\"F-score:\", prfs[2])\n",
    "print(\"Support:\", prfs[3])\n"
   ]
  },
  {
   "cell_type": "markdown",
   "metadata": {
    "collapsed": true,
    "jupyter": {
     "outputs_hidden": true
    }
   },
   "source": [
    "### Not that much difference with standardiaztion\n",
    "accuracy went from 72.06% to 72.06%."
   ]
  },
  {
   "cell_type": "markdown",
   "metadata": {},
   "source": [
    "### Random forest classifier helped in achieving accuracy upto 76 % which is very good cosidering the size and quality of data"
   ]
  },
  {
   "cell_type": "code",
   "execution_count": 10,
   "metadata": {},
   "outputs": [
    {
     "name": "stdout",
     "output_type": "stream",
     "text": [
      "ROC-AUC Score: 0.7036\n"
     ]
    }
   ],
   "source": [
    "from sklearn.metrics import roc_auc_score\n",
    "\n",
    "roc_auc = roc_auc_score(y_test, y_pred)\n",
    "print(f\"ROC-AUC Score: {roc_auc:.4f}\") # > 0.8 is good"
   ]
  },
  {
   "cell_type": "code",
   "execution_count": null,
   "metadata": {},
   "outputs": [],
   "source": []
  }
 ],
 "metadata": {
  "anaconda-cloud": {},
  "kernelspec": {
   "display_name": "Python 3 (ipykernel)",
   "language": "python",
   "name": "python3"
  },
  "language_info": {
   "codemirror_mode": {
    "name": "ipython",
    "version": 3
   },
   "file_extension": ".py",
   "mimetype": "text/x-python",
   "name": "python",
   "nbconvert_exporter": "python",
   "pygments_lexer": "ipython3",
   "version": "3.11.2"
  }
 },
 "nbformat": 4,
 "nbformat_minor": 4
}
